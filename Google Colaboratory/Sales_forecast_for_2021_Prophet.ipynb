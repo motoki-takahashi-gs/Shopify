{
  "cells": [
    {
      "cell_type": "code",
      "execution_count": null,
      "metadata": {
        "id": "YjMbSTr0Qq1F"
      },
      "outputs": [],
      "source": [
        "import pandas as pd"
      ]
    },
    {
      "cell_type": "code",
      "execution_count": null,
      "metadata": {
        "id": "0V1HI3_TQ2E9"
      },
      "outputs": [],
      "source": [
        "from google.colab import drive"
      ]
    },
    {
      "cell_type": "code",
      "execution_count": null,
      "metadata": {
        "colab": {
          "base_uri": "https://localhost:8080/"
        },
        "id": "Bj-z7GwYQ8AO",
        "outputId": "1f56cb72-0c12-4bce-c589-a9b5b06b179b"
      },
      "outputs": [],
      "source": [
        "drive.mount('/content/drive')"
      ]
    },
    {
      "cell_type": "code",
      "execution_count": null,
      "metadata": {
        "id": "oYoQv2L5RAQH"
      },
      "outputs": [],
      "source": [
        "df = pd.read_csv('./drive/My Drive/Colab Notebooks/01_dataset/whole/sales_whole_ec_2020.csv')"
      ]
    },
    {
      "cell_type": "code",
      "execution_count": null,
      "metadata": {
        "id": "Ws7BjE34RUo3"
      },
      "outputs": [],
      "source": [
        "df = df.drop(['orders', 'gross_sales', 'discounts', 'returns', 'net_sales', 'shipping', 'taxes'], axis=1)"
      ]
    },
    {
      "cell_type": "code",
      "execution_count": null,
      "metadata": {
        "id": "Ef-ufLspSFaZ"
      },
      "outputs": [],
      "source": [
        "from fbprophet import Prophet"
      ]
    },
    {
      "cell_type": "code",
      "execution_count": null,
      "metadata": {
        "id": "1ZXTGTSWST77"
      },
      "outputs": [],
      "source": [
        "df.columns = ['ds', 'y']"
      ]
    },
    {
      "cell_type": "code",
      "execution_count": null,
      "metadata": {
        "id": "92mUWKoATS33"
      },
      "outputs": [],
      "source": [
        "df = df.astype({'y': 'int64'})"
      ]
    },
    {
      "cell_type": "code",
      "execution_count": null,
      "metadata": {
        "id": "9d2_-INBUUxO"
      },
      "outputs": [],
      "source": [
        "df['ds'] = pd.to_datetime(df['ds'])"
      ]
    },
    {
      "cell_type": "code",
      "execution_count": null,
      "metadata": {
        "id": "gPkM9KrrUlAx"
      },
      "outputs": [],
      "source": [
        "m = Prophet()"
      ]
    },
    {
      "cell_type": "code",
      "execution_count": null,
      "metadata": {
        "colab": {
          "base_uri": "https://localhost:8080/"
        },
        "id": "9_ktonZbU7O5",
        "outputId": "c3a72581-d90b-4cd1-bfad-415ad4cc1480"
      },
      "outputs": [],
      "source": [
        "m.fit(df)"
      ]
    },
    {
      "cell_type": "code",
      "execution_count": null,
      "metadata": {
        "id": "_Hf--tJjV-wf"
      },
      "outputs": [],
      "source": [
        "future = m.make_future_dataframe(periods=365)"
      ]
    },
    {
      "cell_type": "code",
      "execution_count": null,
      "metadata": {
        "colab": {
          "base_uri": "https://localhost:8080/",
          "height": 195
        },
        "id": "uMYImp4eW4Lf",
        "outputId": "4b685da7-aaa1-41b3-de6d-fcaf526c3b6e"
      },
      "outputs": [],
      "source": [
        "future.head()"
      ]
    },
    {
      "cell_type": "code",
      "execution_count": null,
      "metadata": {
        "colab": {
          "base_uri": "https://localhost:8080/",
          "height": 195
        },
        "id": "n46XRNDLWwgu",
        "outputId": "c9ede1ba-3e10-454f-b19f-d7b2beae29de"
      },
      "outputs": [],
      "source": [
        "future.tail()"
      ]
    },
    {
      "cell_type": "code",
      "execution_count": null,
      "metadata": {
        "id": "uBo27XspWyDC"
      },
      "outputs": [],
      "source": [
        "forecast = m.predict(future)"
      ]
    },
    {
      "cell_type": "code",
      "execution_count": null,
      "metadata": {
        "colab": {
          "base_uri": "https://localhost:8080/",
          "height": 299
        },
        "id": "w_gr1t0xXrAe",
        "outputId": "8ed6fc1e-6570-481c-e2c0-9d756c610908"
      },
      "outputs": [],
      "source": [
        "forecast.tail()"
      ]
    },
    {
      "cell_type": "code",
      "execution_count": null,
      "metadata": {
        "colab": {
          "base_uri": "https://localhost:8080/",
          "height": 195
        },
        "id": "e-cQVxeFXtRQ",
        "outputId": "80b5553d-3949-49ba-8f57-e5dfdefb1bb8"
      },
      "outputs": [],
      "source": [
        "forecast[['ds', 'yhat', 'yhat_lower', 'yhat_upper']].tail()"
      ]
    },
    {
      "cell_type": "code",
      "execution_count": null,
      "metadata": {
        "colab": {
          "base_uri": "https://localhost:8080/",
          "height": 441
        },
        "id": "gYKefHTpYb3c",
        "outputId": "a1670b22-3cd3-4859-aa39-cb97a2ca8b6d"
      },
      "outputs": [],
      "source": [
        "fig1 = m.plot(forecast)"
      ]
    },
    {
      "cell_type": "code",
      "execution_count": null,
      "metadata": {
        "colab": {
          "base_uri": "https://localhost:8080/",
          "height": 402
        },
        "id": "MzBy90SwYoIH",
        "outputId": "c0501abf-062b-4b50-c922-72d1fb9532a1"
      },
      "outputs": [],
      "source": [
        "forecast_2020 = forecast.iloc[0:366, [0, -1]]\n",
        "forecast_2020"
      ]
    },
    {
      "cell_type": "code",
      "execution_count": null,
      "metadata": {
        "colab": {
          "base_uri": "https://localhost:8080/"
        },
        "id": "8MOAlmGpfu2_",
        "outputId": "06e0f49b-527f-41cc-a892-d45dc87ded91"
      },
      "outputs": [],
      "source": [
        "forecast_2020.sum()"
      ]
    },
    {
      "cell_type": "code",
      "execution_count": null,
      "metadata": {
        "colab": {
          "base_uri": "https://localhost:8080/"
        },
        "id": "MQTDPUMKfyDl",
        "outputId": "b0897731-10b6-47e3-f67f-b4ce976909da"
      },
      "outputs": [],
      "source": [
        "forecast_2020['yhat'].sum()"
      ]
    },
    {
      "cell_type": "code",
      "execution_count": null,
      "metadata": {
        "colab": {
          "base_uri": "https://localhost:8080/",
          "height": 402
        },
        "id": "hWZdKdPRdDUc",
        "outputId": "e48bffa5-7702-492d-91bd-9cecb17cefcd"
      },
      "outputs": [],
      "source": [
        "forecast_2021 = forecast.iloc[366:, [0, -1]]\n",
        "forecast_2021"
      ]
    },
    {
      "cell_type": "code",
      "execution_count": null,
      "metadata": {
        "colab": {
          "base_uri": "https://localhost:8080/"
        },
        "id": "nt7xVggkd8xn",
        "outputId": "ec9d70c9-e5ce-4d7f-ddb6-3322a0e21453"
      },
      "outputs": [],
      "source": [
        "forecast_2021.sum()"
      ]
    },
    {
      "cell_type": "code",
      "execution_count": null,
      "metadata": {
        "colab": {
          "base_uri": "https://localhost:8080/"
        },
        "id": "FCS4C999e6n1",
        "outputId": "bb9fcd0e-0fde-4370-d474-aa00a1906eb6"
      },
      "outputs": [],
      "source": [
        "# This is the TO forecast for 2021\n",
        "forecast_2021['yhat'].sum().astype('int64')"
      ]
    },
    {
      "cell_type": "code",
      "execution_count": null,
      "metadata": {
        "colab": {
          "base_uri": "https://localhost:8080/",
          "height": 284
        },
        "id": "FrUPm-HveojZ",
        "outputId": "0a474a94-a21c-4c44-8d2f-da0404b2170b"
      },
      "outputs": [],
      "source": [
        "forecast_2021.describe()"
      ]
    },
    {
      "cell_type": "code",
      "execution_count": null,
      "metadata": {
        "colab": {
          "base_uri": "https://localhost:8080/",
          "height": 441
        },
        "id": "ldJjRcV4eu3d",
        "outputId": "73aa1b99-805e-45ee-d4f2-2a51918f840f"
      },
      "outputs": [],
      "source": [
        "fig2 = m.plot_components(forecast)"
      ]
    },
    {
      "cell_type": "code",
      "execution_count": null,
      "metadata": {
        "id": "GA_0kKSNmUzz"
      },
      "outputs": [],
      "source": [
        "from fbprophet.plot import plot_plotly, plot_components_plotly"
      ]
    },
    {
      "cell_type": "code",
      "execution_count": null,
      "metadata": {
        "colab": {
          "base_uri": "https://localhost:8080/",
          "height": 617
        },
        "id": "doooGzdtoTht",
        "outputId": "ffd8a81c-5460-49ff-ec72-7f4c51debfb5"
      },
      "outputs": [],
      "source": [
        "plot_plotly(m, forecast)"
      ]
    },
    {
      "cell_type": "code",
      "execution_count": null,
      "metadata": {
        "colab": {
          "base_uri": "https://localhost:8080/",
          "height": 417
        },
        "id": "_2GYg1W1oXhP",
        "outputId": "76c0999d-9438-4f2d-8572-4981c993e334"
      },
      "outputs": [],
      "source": [
        "plot_components_plotly(m, forecast)"
      ]
    }
  ],
  "metadata": {
    "colab": {
      "name": "Whole EC sales forecast for 2021 Prophet.ipynb",
      "provenance": [],
      "toc_visible": true
    },
    "kernelspec": {
      "display_name": "Python 3",
      "name": "python3"
    }
  },
  "nbformat": 4,
  "nbformat_minor": 0
}
