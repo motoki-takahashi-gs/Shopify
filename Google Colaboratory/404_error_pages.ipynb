{
  "cells": [
    {
      "cell_type": "markdown",
      "metadata": {
        "id": "pM_Oslx1OlMK"
      },
      "source": [
        "# Preparation"
      ]
    },
    {
      "cell_type": "code",
      "execution_count": null,
      "metadata": {
        "id": "0BqtTN_AyljS"
      },
      "outputs": [],
      "source": [
        "import pandas as pd"
      ]
    },
    {
      "cell_type": "code",
      "execution_count": null,
      "metadata": {
        "colab": {
          "base_uri": "https://localhost:8080/",
          "height": 34
        },
        "id": "jJQY9Cmcv-CV",
        "outputId": "059ebc5c-b9d4-403d-e778-72426e671c7f"
      },
      "outputs": [],
      "source": [
        "from google.colab import drive\n",
        "drive.mount('/content/drive')"
      ]
    },
    {
      "cell_type": "markdown",
      "metadata": {
        "id": "Kj6f0LJmOuU2"
      },
      "source": [
        "# 404 error pages"
      ]
    },
    {
      "cell_type": "code",
      "execution_count": null,
      "metadata": {
        "id": "eoYvzOMT8gH3"
      },
      "outputs": [],
      "source": [
        "col_name = ['URL', 'Title', 'Pageviews']"
      ]
    },
    {
      "cell_type": "code",
      "execution_count": null,
      "metadata": {
        "id": "NcHOaggUAz0s"
      },
      "outputs": [],
      "source": [
        "df_404 = pd.read_csv('./drive/My Drive/Colab Notebooks/01_dataset/error/1.csv', names=col_name)"
      ]
    },
    {
      "cell_type": "code",
      "execution_count": null,
      "metadata": {
        "id": "kLGAushiBOdV"
      },
      "outputs": [],
      "source": [
        "df_404 = df_404.drop(index=[0,1,2,3,4,5])"
      ]
    },
    {
      "cell_type": "code",
      "execution_count": null,
      "metadata": {
        "id": "7yf9gH4CR8Ff"
      },
      "outputs": [],
      "source": [
        "df_404 = df_404.drop(['Title'], axis=1)"
      ]
    },
    {
      "cell_type": "code",
      "execution_count": null,
      "metadata": {
        "id": "Q2SYW9LCW34o"
      },
      "outputs": [],
      "source": [
        "df_404 = df_404.rename(columns={'Pageviews': 'Pageviews(20200801-20200930)'})"
      ]
    },
    {
      "cell_type": "code",
      "execution_count": null,
      "metadata": {
        "colab": {
          "base_uri": "https://localhost:8080/",
          "height": 34
        },
        "id": "FpCpbTFIcjYw",
        "outputId": "dc56000a-fba7-453b-e69f-7df27229e4c2"
      },
      "outputs": [],
      "source": [
        "len(df_404['URL'].unique())"
      ]
    },
    {
      "cell_type": "code",
      "execution_count": null,
      "metadata": {
        "id": "DeWz6S6lc7h4"
      },
      "outputs": [],
      "source": [
        "df_404 = df_404.reset_index(drop=True)"
      ]
    },
    {
      "cell_type": "code",
      "execution_count": null,
      "metadata": {
        "id": "E4aXDKzGmI3z"
      },
      "outputs": [],
      "source": [
        "df_404_products = df_404[df_404['URL'].str.contains('/products/')]"
      ]
    },
    {
      "cell_type": "code",
      "execution_count": null,
      "metadata": {
        "id": "nS2buESKNTqA"
      },
      "outputs": [],
      "source": [
        "df_404_products = df_404_products.reset_index(drop=True)"
      ]
    },
    {
      "cell_type": "code",
      "execution_count": null,
      "metadata": {
        "colab": {
          "base_uri": "https://localhost:8080/",
          "height": 402
        },
        "id": "rkU9SWxpW433",
        "outputId": "4296a206-8d68-4fd8-a18c-30d973a7a7fc"
      },
      "outputs": [],
      "source": [
        "df_404_products['URL'].str.split('/products/', expand=True)"
      ]
    },
    {
      "cell_type": "code",
      "execution_count": null,
      "metadata": {
        "id": "g_YgLArKYLlS"
      },
      "outputs": [],
      "source": [
        "df_404_products['Product_ID'] = df_404_products['URL'].str.split('/products/', expand=True)[1].str.split('?', expand=True)[0]"
      ]
    },
    {
      "cell_type": "code",
      "execution_count": null,
      "metadata": {
        "colab": {
          "base_uri": "https://localhost:8080/",
          "height": 34
        },
        "id": "qNde4AepY3O6",
        "outputId": "43627b78-05c5-4ff9-9b51-6757acab2640"
      },
      "outputs": [],
      "source": [
        "len(df_404_products['Product_ID'].unique())"
      ]
    },
    {
      "cell_type": "code",
      "execution_count": null,
      "metadata": {
        "id": "j_xm4WsZZOJu"
      },
      "outputs": [],
      "source": [
        "df_404_products = df_404_products.drop_duplicates(subset='Product_ID')"
      ]
    },
    {
      "cell_type": "code",
      "execution_count": null,
      "metadata": {
        "id": "c9j4FfJMZSiT"
      },
      "outputs": [],
      "source": [
        "df_404_products = df_404_products.reset_index(drop=True)"
      ]
    },
    {
      "cell_type": "code",
      "execution_count": null,
      "metadata": {
        "id": "5kSW03_7rsjw"
      },
      "outputs": [],
      "source": [
        "df_404_products['URL'] = 'https://www.decathlon.co.jp' + df_404_products['URL'].astype(str)"
      ]
    },
    {
      "cell_type": "code",
      "execution_count": null,
      "metadata": {
        "id": "j-_tjr7lcy-Q"
      },
      "outputs": [],
      "source": [
        "df_404_products.to_csv('./drive/My Drive/Colab Notebooks/01_dataset/all_404_error_products_20200801-20200930.csv')"
      ]
    },
    {
      "cell_type": "markdown",
      "metadata": {
        "id": "FPMcCeJbO1bb"
      },
      "source": [
        "# All page views for 30 days from 1st to 30th April 2020"
      ]
    },
    {
      "cell_type": "code",
      "execution_count": null,
      "metadata": {
        "id": "tNZ-xVKQJzHm"
      },
      "outputs": [],
      "source": [
        "df_old_arr = []"
      ]
    },
    {
      "cell_type": "code",
      "execution_count": null,
      "metadata": {
        "id": "iJNwoGogIGHO"
      },
      "outputs": [],
      "source": [
        "for i in range(1,26):\n",
        "    file = pd.read_csv('./drive/My Drive/Colab Notebooks/01_dataset/old/Analytics Main View all unique page views 20200401-20200430-{}.csv'.format(i), names=col_name)\n",
        "    file = file.drop(index=[0,1,2,3,4,5])\n",
        "    df_old_arr.append(file)"
      ]
    },
    {
      "cell_type": "code",
      "execution_count": null,
      "metadata": {
        "id": "gGOBoUyNMbPw"
      },
      "outputs": [],
      "source": [
        "df_old = pd.concat(df_old_arr, ignore_index=True)"
      ]
    },
    {
      "cell_type": "code",
      "execution_count": null,
      "metadata": {
        "id": "8yeZfqL3X1Kl"
      },
      "outputs": [],
      "source": [
        "df_old = df_old.rename(columns={'Pageviews': 'Pageviews(20200401-20200430)'})"
      ]
    },
    {
      "cell_type": "code",
      "execution_count": null,
      "metadata": {
        "id": "QLEzdfObaILO"
      },
      "outputs": [],
      "source": [
        "df_old_products = df_old[df_old['URL'].str.contains('/products/')]"
      ]
    },
    {
      "cell_type": "code",
      "execution_count": null,
      "metadata": {
        "colab": {
          "base_uri": "https://localhost:8080/",
          "height": 122
        },
        "id": "wQXt1yeebuLh",
        "outputId": "7b5b4150-a1d0-4980-ee8d-04495bce69c1"
      },
      "outputs": [],
      "source": [
        "df_old_products['Product_ID'] = df_old_products['URL'].str.split('/products/', expand=True)[1].str.split('?', expand=True)[0]"
      ]
    },
    {
      "cell_type": "code",
      "execution_count": null,
      "metadata": {
        "id": "LZ6BScdAwEzl"
      },
      "outputs": [],
      "source": [
        "df_old_products = df_old_products.drop_duplicates(subset='Product_ID')"
      ]
    },
    {
      "cell_type": "code",
      "execution_count": null,
      "metadata": {
        "colab": {
          "base_uri": "https://localhost:8080/",
          "height": 122
        },
        "id": "rtzRi6C5whWL",
        "outputId": "4227fdb9-a071-485e-b736-e7060967a44f"
      },
      "outputs": [],
      "source": [
        "df_old_products['URL'] = 'https://www.decathlon.co.jp' + df_old_products['URL'].astype(str)"
      ]
    },
    {
      "cell_type": "code",
      "execution_count": null,
      "metadata": {
        "id": "CyXtIe9hvZar"
      },
      "outputs": [],
      "source": [
        "df_old_products = df_old_products.reset_index(drop=True)"
      ]
    },
    {
      "cell_type": "code",
      "execution_count": null,
      "metadata": {
        "colab": {
          "base_uri": "https://localhost:8080/",
          "height": 228
        },
        "id": "sAc5EDrpxCiH",
        "outputId": "b4251e4a-6632-4bdc-aa57-efa4ac9049c0"
      },
      "outputs": [],
      "source": [
        "df_old_products.loc[0:, 'URL']"
      ]
    },
    {
      "cell_type": "code",
      "execution_count": null,
      "metadata": {
        "id": "PjA2Iyk-F_4p"
      },
      "outputs": [],
      "source": [
        "df_old_products.to_csv('./drive/My Drive/Colab Notebooks/01_dataset/all_pageviews_products_20200401-20200430.csv')"
      ]
    },
    {
      "cell_type": "markdown",
      "metadata": {
        "id": "uN_O9RJvPmkI"
      },
      "source": [
        "# All page views for 14 days from 17th to 30th September 2020"
      ]
    },
    {
      "cell_type": "code",
      "execution_count": null,
      "metadata": {
        "id": "AHOTHFfc-gIH"
      },
      "outputs": [],
      "source": [
        "df_new_arr = []"
      ]
    },
    {
      "cell_type": "code",
      "execution_count": null,
      "metadata": {
        "id": "6w537b9BCTJI"
      },
      "outputs": [],
      "source": [
        "for i in range(1,18):\n",
        "    file = pd.read_csv('./drive/My Drive/Colab Notebooks/01_dataset/new/Analytics Main View all unique page views 20200917-20200930-{}.csv'.format(i), names=col_name)\n",
        "    file = file.drop(index=[0,1,2,3,4,5])\n",
        "    df_new_arr.append(file)"
      ]
    },
    {
      "cell_type": "code",
      "execution_count": null,
      "metadata": {
        "id": "yHiOZaVjCmRQ"
      },
      "outputs": [],
      "source": [
        "df_new = pd.concat(df_new_arr, ignore_index=True)"
      ]
    },
    {
      "cell_type": "code",
      "execution_count": null,
      "metadata": {
        "id": "xSNZyIhNY1cn"
      },
      "outputs": [],
      "source": [
        "df_new = df_new.rename(columns={'Pageviews': 'Pageviews(20200917-20200930)'})"
      ]
    },
    {
      "cell_type": "code",
      "execution_count": null,
      "metadata": {
        "id": "pq822BHjG5jZ"
      },
      "outputs": [],
      "source": [
        "df_new.to_csv('./drive/My Drive/Colab Notebooks/01_dataset/all_pageviews_20200917-20200930.csv')"
      ]
    },
    {
      "cell_type": "markdown",
      "metadata": {
        "id": "S19cIVu8Rej_"
      },
      "source": [
        "# Merge Dataframes"
      ]
    },
    {
      "cell_type": "markdown",
      "metadata": {
        "id": "oW0k9q0rYCwf"
      },
      "source": [
        "## 1st merge with 404 error and old page views"
      ]
    },
    {
      "cell_type": "code",
      "execution_count": null,
      "metadata": {
        "id": "XHVjqOywRROv"
      },
      "outputs": [],
      "source": [
        "oldUrlAndTitle = pd.merge(df_404_products, df_old_products, on='Product_ID')"
      ]
    },
    {
      "cell_type": "markdown",
      "metadata": {
        "id": "eexygThRfBx-"
      },
      "source": [
        "### Pages which are still getting 404 error even now"
      ]
    },
    {
      "cell_type": "code",
      "execution_count": null,
      "metadata": {
        "id": "CQ6pF0mTf35D"
      },
      "outputs": [],
      "source": [
        "still_404 = oldUrlAndTitle[oldUrlAndTitle['Title'] == '404 Not Found | デカトロン日本公式オンラインストア']"
      ]
    },
    {
      "cell_type": "code",
      "execution_count": null,
      "metadata": {
        "colab": {
          "base_uri": "https://localhost:8080/",
          "height": 122
        },
        "id": "k6wJGbTdbJkJ",
        "outputId": "6bf328cc-24be-4140-a629-4e56145955b6"
      },
      "outputs": [],
      "source": [
        "still_404['URL'] = 'https://www.decathlon.co.jp' + still_404['URL'].astype(str)"
      ]
    },
    {
      "cell_type": "code",
      "execution_count": null,
      "metadata": {
        "id": "BVP3aCzDdUzZ"
      },
      "outputs": [],
      "source": [
        "still_404 = still_404[['URL_y', 'Pageviews(20200401-20200430)', 'URL_x', 'Pageviews(20200801-20200930)', 'Title', 'Product_ID']]"
      ]
    },
    {
      "cell_type": "code",
      "execution_count": null,
      "metadata": {
        "id": "fXh8NUz_otbR"
      },
      "outputs": [],
      "source": [
        "still_404 = still_404.reset_index(drop=True)"
      ]
    },
    {
      "cell_type": "code",
      "execution_count": null,
      "metadata": {
        "colab": {
          "base_uri": "https://localhost:8080/",
          "height": 34
        },
        "id": "prSvb9vO0CZZ",
        "outputId": "1e6947af-3acb-4d7e-f85b-8c82365b79c1"
      },
      "outputs": [],
      "source": [
        "len(still_404['Product_ID'].unique())"
      ]
    },
    {
      "cell_type": "code",
      "execution_count": null,
      "metadata": {
        "id": "P6EymQjQgo03"
      },
      "outputs": [],
      "source": [
        "still_404.to_csv('./drive/My Drive/Colab Notebooks/01_dataset/updated_still_404.csv')"
      ]
    },
    {
      "cell_type": "markdown",
      "metadata": {
        "id": "l8M_b_4DfRCe"
      },
      "source": [
        "### 1st Merged dataframe"
      ]
    },
    {
      "cell_type": "code",
      "execution_count": null,
      "metadata": {
        "colab": {
          "base_uri": "https://localhost:8080/",
          "height": 34
        },
        "id": "TMj5hIqbVzKQ",
        "outputId": "51383da1-a31a-419f-c939-fe024bdb04ce"
      },
      "outputs": [],
      "source": [
        "# rows with unique values\n",
        "len(oldUrlAndTitle['Title'].unique())"
      ]
    },
    {
      "cell_type": "code",
      "execution_count": null,
      "metadata": {
        "colab": {
          "base_uri": "https://localhost:8080/",
          "height": 34
        },
        "id": "tElkvEIxWwUO",
        "outputId": "0340783c-598c-4264-ce47-979e1fab864d"
      },
      "outputs": [],
      "source": [
        "# rows with 404 error\n",
        "len(oldUrlAndTitle[oldUrlAndTitle['Title'] == '404 Not Found | デカトロン日本公式オンラインストア'])"
      ]
    },
    {
      "cell_type": "code",
      "execution_count": null,
      "metadata": {
        "id": "-0OiDwywY0LP"
      },
      "outputs": [],
      "source": [
        "# remove rows with 404 error page title\n",
        "oldUrlAndTitle = oldUrlAndTitle[oldUrlAndTitle['Title'] != '404 Not Found | デカトロン日本公式オンラインストア']"
      ]
    },
    {
      "cell_type": "code",
      "execution_count": null,
      "metadata": {
        "id": "4z12zBDva5r3"
      },
      "outputs": [],
      "source": [
        "# change the URL column name\n",
        "oldUrlAndTitle = oldUrlAndTitle.rename(columns={'URL_x': 'old_URL_x', 'URL_y': 'old_URL_y'})"
      ]
    },
    {
      "cell_type": "code",
      "execution_count": null,
      "metadata": {
        "id": "RFNG7hVK2SzV"
      },
      "outputs": [],
      "source": [
        "oldUrlAndTitle = oldUrlAndTitle[['old_URL_y', 'Pageviews(20200401-20200430)', 'old_URL_x', 'Pageviews(20200801-20200930)', 'Title', 'Product_ID']]"
      ]
    },
    {
      "cell_type": "markdown",
      "metadata": {
        "id": "QKaYWpSTYPVo"
      },
      "source": [
        "## 2nd merge with the above-merged one and new page views"
      ]
    },
    {
      "cell_type": "code",
      "execution_count": null,
      "metadata": {
        "id": "ntuGXV0NXnxX"
      },
      "outputs": [],
      "source": [
        "oldUrlAndNewUrlAndTitle = pd.merge(oldUrlAndTitle, df_new, on='Title')"
      ]
    },
    {
      "cell_type": "code",
      "execution_count": null,
      "metadata": {
        "id": "TYpyYIuBeNIK"
      },
      "outputs": [],
      "source": [
        "# change the URL column name\n",
        "oldUrlAndNewUrlAndTitle = oldUrlAndNewUrlAndTitle.rename(columns={'URL': 'new_URL', 'Product_ID': 'old_Product_ID'})"
      ]
    },
    {
      "cell_type": "code",
      "execution_count": null,
      "metadata": {
        "id": "Cb6i3gKRhlZN"
      },
      "outputs": [],
      "source": [
        "oldUrlAndNewUrlAndTitle = oldUrlAndNewUrlAndTitle.drop(['Pageviews(20200401-20200430)', 'old_URL_y'], axis=1)"
      ]
    },
    {
      "cell_type": "code",
      "execution_count": null,
      "metadata": {
        "id": "GsBSeBrd5fXX"
      },
      "outputs": [],
      "source": [
        "# change the URL column name\n",
        "oldUrlAndNewUrlAndTitle = oldUrlAndNewUrlAndTitle.rename(columns={'old_URL_x': 'old_URL'})"
      ]
    },
    {
      "cell_type": "code",
      "execution_count": null,
      "metadata": {
        "id": "8oR1g0kR5xTr"
      },
      "outputs": [],
      "source": [
        "oldUrlAndNewUrlAndTitle = oldUrlAndNewUrlAndTitle[['old_URL', 'Pageviews(20200801-20200930)', 'old_Product_ID', 'Title', 'new_URL', 'Pageviews(20200917-20200930)']]"
      ]
    },
    {
      "cell_type": "code",
      "execution_count": null,
      "metadata": {
        "colab": {
          "base_uri": "https://localhost:8080/",
          "height": 34
        },
        "id": "Dp5Y87PFcVfS",
        "outputId": "ec3a05ee-6e9c-4a85-8e96-c91752ec8728"
      },
      "outputs": [],
      "source": [
        "len(oldUrlAndNewUrlAndTitle['Title'].unique())"
      ]
    },
    {
      "cell_type": "code",
      "execution_count": null,
      "metadata": {
        "colab": {
          "base_uri": "https://localhost:8080/",
          "height": 369
        },
        "id": "ivAV_cotdU1Y",
        "outputId": "d58e264a-56f4-496f-efa1-dd5232348050"
      },
      "outputs": [],
      "source": [
        "for i in range(20):\n",
        "    print(oldUrlAndNewUrlAndTitle['old_URL'][i])"
      ]
    },
    {
      "cell_type": "code",
      "execution_count": null,
      "metadata": {
        "colab": {
          "base_uri": "https://localhost:8080/",
          "height": 193
        },
        "id": "kFNkzUWYdg6J",
        "outputId": "36364d78-abe9-4fdf-e0c2-0f796120e0b7"
      },
      "outputs": [],
      "source": [
        "for i in range(10):\n",
        "    print(oldUrlAndNewUrlAndTitle['Title'][i])"
      ]
    },
    {
      "cell_type": "code",
      "execution_count": null,
      "metadata": {
        "colab": {
          "base_uri": "https://localhost:8080/",
          "height": 389
        },
        "id": "jmEx2ODyd6oD",
        "outputId": "4ec7e283-9376-42dd-f451-cec7eaf1aaaf"
      },
      "outputs": [],
      "source": [
        "for i in range(20):\n",
        "    print(oldUrlAndNewUrlAndTitle['new_URL'][i])"
      ]
    },
    {
      "cell_type": "code",
      "execution_count": null,
      "metadata": {
        "id": "b5jqKZNOd8XC"
      },
      "outputs": [],
      "source": [
        "# remove rows with duplicate ones in Title\n",
        "oldUrlAndNewUrlAndTitle = oldUrlAndNewUrlAndTitle.drop_duplicates(subset=['Title'])"
      ]
    },
    {
      "cell_type": "code",
      "execution_count": null,
      "metadata": {
        "id": "unho2hnbl2OF"
      },
      "outputs": [],
      "source": [
        "# reset index number\n",
        "oldUrlAndNewUrlAndTitle = oldUrlAndNewUrlAndTitle.reset_index(drop=True)"
      ]
    },
    {
      "cell_type": "code",
      "execution_count": null,
      "metadata": {
        "colab": {
          "base_uri": "https://localhost:8080/",
          "height": 228
        },
        "id": "KdWE-xFb7_pC",
        "outputId": "6072ff8a-9014-438e-ee95-721996c1e845"
      },
      "outputs": [],
      "source": [
        "oldUrlAndNewUrlAndTitle['new_URL'].str.split('/products/', expand=True)[1].str.split('?', expand=True)[0]"
      ]
    },
    {
      "cell_type": "code",
      "execution_count": null,
      "metadata": {
        "id": "4feiJNL3872W"
      },
      "outputs": [],
      "source": [
        "oldUrlAndNewUrlAndTitle['new_Product_ID'] = oldUrlAndNewUrlAndTitle['new_URL'].str.split('/products/', expand=True)[1].str.split('?', expand=True)[0]"
      ]
    },
    {
      "cell_type": "code",
      "execution_count": null,
      "metadata": {
        "id": "V7P65SeDncen"
      },
      "outputs": [],
      "source": [
        "oldUrlAndNewUrlAndTitle['new_URL'] = 'https://www.decathlon.co.jp' + oldUrlAndNewUrlAndTitle['new_URL'].astype(str)"
      ]
    },
    {
      "cell_type": "code",
      "execution_count": null,
      "metadata": {
        "id": "lne1PHMvfE3B"
      },
      "outputs": [],
      "source": [
        "oldUrlAndNewUrlAndTitle.to_csv('./drive/My Drive/Colab Notebooks/01_dataset/updated_oldAndNewUrls.csv')"
      ]
    }
  ],
  "metadata": {
    "colab": {
      "name": "404_error_pages.ipynb",
      "provenance": [],
      "toc_visible": true
    },
    "kernelspec": {
      "display_name": "Python 3",
      "name": "python3"
    }
  },
  "nbformat": 4,
  "nbformat_minor": 0
}
