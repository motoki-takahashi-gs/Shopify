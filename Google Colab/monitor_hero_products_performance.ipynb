{
  "cells": [
    {
      "cell_type": "markdown",
      "metadata": {
        "id": "3bzNiWvIZDw7"
      },
      "source": [
        "# Prepare"
      ]
    },
    {
      "cell_type": "code",
      "execution_count": null,
      "metadata": {
        "id": "PUgWNbe3YoJ6"
      },
      "outputs": [],
      "source": [
        "import pandas as pd"
      ]
    },
    {
      "cell_type": "code",
      "execution_count": null,
      "metadata": {
        "id": "QOAA8HrkAGz4"
      },
      "outputs": [],
      "source": [
        "import matplotlib.pyplot as plt"
      ]
    },
    {
      "cell_type": "code",
      "execution_count": null,
      "metadata": {
        "id": "g4iKULTTZfti"
      },
      "outputs": [],
      "source": [
        "from google.colab import drive"
      ]
    },
    {
      "cell_type": "code",
      "execution_count": null,
      "metadata": {
        "colab": {
          "base_uri": "https://localhost:8080/"
        },
        "id": "v96gDkELZkic",
        "outputId": "b2d8cb3e-5815-40fa-88a7-d547af7eed74"
      },
      "outputs": [],
      "source": [
        "drive.mount('/content/drive')"
      ]
    },
    {
      "cell_type": "markdown",
      "metadata": {
        "id": "EeElfhzr5L8Y"
      },
      "source": [
        "# Items"
      ]
    },
    {
      "cell_type": "code",
      "execution_count": null,
      "metadata": {
        "id": "XJVUmYCz46Ne"
      },
      "outputs": [],
      "source": [
        "df = pd.read_csv('./drive/My Drive/Colab Notebooks/01_dataset/sales/whole/sales_2021-02-01_2021-05-24.csv')"
      ]
    },
    {
      "cell_type": "code",
      "execution_count": null,
      "metadata": {
        "id": "T8MDmYxOCBvn"
      },
      "outputs": [],
      "source": [
        "df = df.sort_values(by=['day'])"
      ]
    },
    {
      "cell_type": "code",
      "execution_count": null,
      "metadata": {
        "id": "wGowc5p3W6tu"
      },
      "outputs": [],
      "source": [
        "models = [8569512, 8515602, 8515598, 8554038, 8569511, 8489473, 8544878, 8544879]"
      ]
    },
    {
      "cell_type": "code",
      "execution_count": null,
      "metadata": {
        "colab": {
          "base_uri": "https://localhost:8080/",
          "height": 1000
        },
        "id": "ve3yttrBV06H",
        "outputId": "adbec067-ee6e-4592-be20-c40547ba6ff2"
      },
      "outputs": [],
      "source": [
        "def heros():\n",
        "  for model in models:\n",
        "    hero = df.loc[df['variant_title'].str.contains(str(model), na=False)]\n",
        "    hero.plot(x=\"day\", y=\"total_sales\", kind=\"bar\", figsize=(15,5), title=\"Model: \"+str(model))\n",
        "\n",
        "heros()"
      ]
    }
  ],
  "metadata": {
    "colab": {
      "name": "monitor_hero_products_performance.ipynb",
      "provenance": [],
      "toc_visible": true
    },
    "kernelspec": {
      "display_name": "Python 3",
      "name": "python3"
    },
    "language_info": {
      "name": "python"
    }
  },
  "nbformat": 4,
  "nbformat_minor": 0
}
