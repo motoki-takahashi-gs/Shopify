{
  "cells": [
    {
      "cell_type": "markdown",
      "metadata": {
        "id": "KxxnYDPpS_ro"
      },
      "source": [
        "# Mount drive"
      ]
    },
    {
      "cell_type": "code",
      "execution_count": null,
      "metadata": {
        "id": "rsC477f0TO-S"
      },
      "outputs": [],
      "source": [
        "from google.colab import drive"
      ]
    },
    {
      "cell_type": "code",
      "execution_count": null,
      "metadata": {
        "colab": {
          "base_uri": "https://localhost:8080/"
        },
        "id": "HULQNfxWTnZw",
        "outputId": "68d933bd-8f73-48a1-e588-194f6cde895c"
      },
      "outputs": [
        {
          "name": "stdout",
          "output_type": "stream",
          "text": [
            "Drive already mounted at /content/drive; to attempt to forcibly remount, call drive.mount(\"/content/drive\", force_remount=True).\n"
          ]
        }
      ],
      "source": [
        "drive.mount('/content/drive')"
      ]
    },
    {
      "cell_type": "markdown",
      "metadata": {
        "id": "NEaCUhaSTJnF"
      },
      "source": [
        "# Zip code"
      ]
    },
    {
      "cell_type": "markdown",
      "metadata": {
        "id": "GU6PH15BTVgZ"
      },
      "source": [
        "## Import data\n"
      ]
    },
    {
      "cell_type": "code",
      "execution_count": null,
      "metadata": {
        "id": "6oD6UbCFUXSm"
      },
      "outputs": [],
      "source": [
        "import pandas as pd"
      ]
    },
    {
      "cell_type": "code",
      "execution_count": null,
      "metadata": {
        "id": "vxYvdIPtUgRV"
      },
      "outputs": [],
      "source": [
        "df = pd.read_csv('./drive/My Drive/Colab Notebooks/01_dataset/zip-code/KEN_ALL.CSV', encoding='shift-jis', header=None, dtype=str)"
      ]
    },
    {
      "cell_type": "code",
      "execution_count": null,
      "metadata": {
        "colab": {
          "base_uri": "https://localhost:8080/",
          "height": 203
        },
        "id": "LQbK6eqxU3Z6",
        "outputId": "bfad95d6-3b12-42ab-b124-8246cba1b3a1"
      },
      "outputs": [
        {
          "data": {
            "text/html": [
              "<div>\n",
              "<style scoped>\n",
              "    .dataframe tbody tr th:only-of-type {\n",
              "        vertical-align: middle;\n",
              "    }\n",
              "\n",
              "    .dataframe tbody tr th {\n",
              "        vertical-align: top;\n",
              "    }\n",
              "\n",
              "    .dataframe thead th {\n",
              "        text-align: right;\n",
              "    }\n",
              "</style>\n",
              "<table border=\"1\" class=\"dataframe\">\n",
              "  <thead>\n",
              "    <tr style=\"text-align: right;\">\n",
              "      <th></th>\n",
              "      <th>0</th>\n",
              "      <th>1</th>\n",
              "      <th>2</th>\n",
              "      <th>3</th>\n",
              "      <th>4</th>\n",
              "      <th>5</th>\n",
              "      <th>6</th>\n",
              "      <th>7</th>\n",
              "      <th>8</th>\n",
              "      <th>9</th>\n",
              "      <th>10</th>\n",
              "      <th>11</th>\n",
              "      <th>12</th>\n",
              "      <th>13</th>\n",
              "      <th>14</th>\n",
              "    </tr>\n",
              "  </thead>\n",
              "  <tbody>\n",
              "    <tr>\n",
              "      <th>0</th>\n",
              "      <td>01101</td>\n",
              "      <td>060</td>\n",
              "      <td>0600000</td>\n",
              "      <td>ﾎﾂｶｲﾄﾞｳ</td>\n",
              "      <td>ｻﾂﾎﾟﾛｼﾁﾕｳｵｳｸ</td>\n",
              "      <td>ｲｶﾆｹｲｻｲｶﾞﾅｲﾊﾞｱｲ</td>\n",
              "      <td>北海道</td>\n",
              "      <td>札幌市中央区</td>\n",
              "      <td>以下に掲載がない場合</td>\n",
              "      <td>0</td>\n",
              "      <td>0</td>\n",
              "      <td>0</td>\n",
              "      <td>0</td>\n",
              "      <td>0</td>\n",
              "      <td>0</td>\n",
              "    </tr>\n",
              "    <tr>\n",
              "      <th>1</th>\n",
              "      <td>01101</td>\n",
              "      <td>064</td>\n",
              "      <td>0640941</td>\n",
              "      <td>ﾎﾂｶｲﾄﾞｳ</td>\n",
              "      <td>ｻﾂﾎﾟﾛｼﾁﾕｳｵｳｸ</td>\n",
              "      <td>ｱｻﾋｶﾞｵｶ</td>\n",
              "      <td>北海道</td>\n",
              "      <td>札幌市中央区</td>\n",
              "      <td>旭ケ丘</td>\n",
              "      <td>0</td>\n",
              "      <td>0</td>\n",
              "      <td>1</td>\n",
              "      <td>0</td>\n",
              "      <td>0</td>\n",
              "      <td>0</td>\n",
              "    </tr>\n",
              "    <tr>\n",
              "      <th>2</th>\n",
              "      <td>01101</td>\n",
              "      <td>060</td>\n",
              "      <td>0600041</td>\n",
              "      <td>ﾎﾂｶｲﾄﾞｳ</td>\n",
              "      <td>ｻﾂﾎﾟﾛｼﾁﾕｳｵｳｸ</td>\n",
              "      <td>ｵｵﾄﾞｵﾘﾋｶﾞｼ</td>\n",
              "      <td>北海道</td>\n",
              "      <td>札幌市中央区</td>\n",
              "      <td>大通東</td>\n",
              "      <td>0</td>\n",
              "      <td>0</td>\n",
              "      <td>1</td>\n",
              "      <td>0</td>\n",
              "      <td>0</td>\n",
              "      <td>0</td>\n",
              "    </tr>\n",
              "    <tr>\n",
              "      <th>3</th>\n",
              "      <td>01101</td>\n",
              "      <td>060</td>\n",
              "      <td>0600042</td>\n",
              "      <td>ﾎﾂｶｲﾄﾞｳ</td>\n",
              "      <td>ｻﾂﾎﾟﾛｼﾁﾕｳｵｳｸ</td>\n",
              "      <td>ｵｵﾄﾞｵﾘﾆｼ(1-19ﾁﾖｳﾒ)</td>\n",
              "      <td>北海道</td>\n",
              "      <td>札幌市中央区</td>\n",
              "      <td>大通西（１〜１９丁目）</td>\n",
              "      <td>1</td>\n",
              "      <td>0</td>\n",
              "      <td>1</td>\n",
              "      <td>0</td>\n",
              "      <td>0</td>\n",
              "      <td>0</td>\n",
              "    </tr>\n",
              "    <tr>\n",
              "      <th>4</th>\n",
              "      <td>01101</td>\n",
              "      <td>064</td>\n",
              "      <td>0640820</td>\n",
              "      <td>ﾎﾂｶｲﾄﾞｳ</td>\n",
              "      <td>ｻﾂﾎﾟﾛｼﾁﾕｳｵｳｸ</td>\n",
              "      <td>ｵｵﾄﾞｵﾘﾆｼ(20-28ﾁﾖｳﾒ)</td>\n",
              "      <td>北海道</td>\n",
              "      <td>札幌市中央区</td>\n",
              "      <td>大通西（２０〜２８丁目）</td>\n",
              "      <td>1</td>\n",
              "      <td>0</td>\n",
              "      <td>1</td>\n",
              "      <td>0</td>\n",
              "      <td>0</td>\n",
              "      <td>0</td>\n",
              "    </tr>\n",
              "  </tbody>\n",
              "</table>\n",
              "</div>"
            ],
            "text/plain": [
              "      0      1        2        3             4   ... 10 11 12 13 14\n",
              "0  01101  060    0600000  ﾎﾂｶｲﾄﾞｳ  ｻﾂﾎﾟﾛｼﾁﾕｳｵｳｸ  ...  0  0  0  0  0\n",
              "1  01101  064    0640941  ﾎﾂｶｲﾄﾞｳ  ｻﾂﾎﾟﾛｼﾁﾕｳｵｳｸ  ...  0  1  0  0  0\n",
              "2  01101  060    0600041  ﾎﾂｶｲﾄﾞｳ  ｻﾂﾎﾟﾛｼﾁﾕｳｵｳｸ  ...  0  1  0  0  0\n",
              "3  01101  060    0600042  ﾎﾂｶｲﾄﾞｳ  ｻﾂﾎﾟﾛｼﾁﾕｳｵｳｸ  ...  0  1  0  0  0\n",
              "4  01101  064    0640820  ﾎﾂｶｲﾄﾞｳ  ｻﾂﾎﾟﾛｼﾁﾕｳｵｳｸ  ...  0  1  0  0  0\n",
              "\n",
              "[5 rows x 15 columns]"
            ]
          },
          "execution_count": 9,
          "metadata": {},
          "output_type": "execute_result"
        }
      ],
      "source": [
        "df.head(5)"
      ]
    },
    {
      "cell_type": "code",
      "execution_count": null,
      "metadata": {
        "colab": {
          "base_uri": "https://localhost:8080/"
        },
        "id": "Ns8gWHh8VcgX",
        "outputId": "9fabe596-46ae-4fd9-fbe6-cbd6ce517089"
      },
      "outputs": [
        {
          "data": {
            "text/plain": [
              "(124539, 15)"
            ]
          },
          "execution_count": 10,
          "metadata": {},
          "output_type": "execute_result"
        }
      ],
      "source": [
        "df.shape"
      ]
    },
    {
      "cell_type": "markdown",
      "metadata": {
        "id": "3vkFhwcwWDyk"
      },
      "source": [
        "## Data shaping"
      ]
    },
    {
      "cell_type": "code",
      "execution_count": null,
      "metadata": {
        "id": "VpfFnmTl8Dro"
      },
      "outputs": [],
      "source": [
        "delete_columns = [0, 1, 3, 4, 5, 9, 10, 11, 12, 13, 14]"
      ]
    },
    {
      "cell_type": "code",
      "execution_count": null,
      "metadata": {
        "id": "q0gzDb7ABlpI"
      },
      "outputs": [],
      "source": [
        "df.drop(df.columns[delete_columns], axis=1, inplace=True)"
      ]
    },
    {
      "cell_type": "code",
      "execution_count": null,
      "metadata": {
        "colab": {
          "base_uri": "https://localhost:8080/",
          "height": 203
        },
        "id": "Cd05Nj7aB29f",
        "outputId": "c677dbeb-037c-494d-ee1b-43c7c2794bee"
      },
      "outputs": [
        {
          "data": {
            "text/html": [
              "<div>\n",
              "<style scoped>\n",
              "    .dataframe tbody tr th:only-of-type {\n",
              "        vertical-align: middle;\n",
              "    }\n",
              "\n",
              "    .dataframe tbody tr th {\n",
              "        vertical-align: top;\n",
              "    }\n",
              "\n",
              "    .dataframe thead th {\n",
              "        text-align: right;\n",
              "    }\n",
              "</style>\n",
              "<table border=\"1\" class=\"dataframe\">\n",
              "  <thead>\n",
              "    <tr style=\"text-align: right;\">\n",
              "      <th></th>\n",
              "      <th>2</th>\n",
              "      <th>6</th>\n",
              "      <th>7</th>\n",
              "      <th>8</th>\n",
              "    </tr>\n",
              "  </thead>\n",
              "  <tbody>\n",
              "    <tr>\n",
              "      <th>0</th>\n",
              "      <td>0600000</td>\n",
              "      <td>北海道</td>\n",
              "      <td>札幌市中央区</td>\n",
              "      <td>以下に掲載がない場合</td>\n",
              "    </tr>\n",
              "    <tr>\n",
              "      <th>1</th>\n",
              "      <td>0640941</td>\n",
              "      <td>北海道</td>\n",
              "      <td>札幌市中央区</td>\n",
              "      <td>旭ケ丘</td>\n",
              "    </tr>\n",
              "    <tr>\n",
              "      <th>2</th>\n",
              "      <td>0600041</td>\n",
              "      <td>北海道</td>\n",
              "      <td>札幌市中央区</td>\n",
              "      <td>大通東</td>\n",
              "    </tr>\n",
              "    <tr>\n",
              "      <th>3</th>\n",
              "      <td>0600042</td>\n",
              "      <td>北海道</td>\n",
              "      <td>札幌市中央区</td>\n",
              "      <td>大通西（１〜１９丁目）</td>\n",
              "    </tr>\n",
              "    <tr>\n",
              "      <th>4</th>\n",
              "      <td>0640820</td>\n",
              "      <td>北海道</td>\n",
              "      <td>札幌市中央区</td>\n",
              "      <td>大通西（２０〜２８丁目）</td>\n",
              "    </tr>\n",
              "  </tbody>\n",
              "</table>\n",
              "</div>"
            ],
            "text/plain": [
              "         2    6       7             8\n",
              "0  0600000  北海道  札幌市中央区    以下に掲載がない場合\n",
              "1  0640941  北海道  札幌市中央区           旭ケ丘\n",
              "2  0600041  北海道  札幌市中央区           大通東\n",
              "3  0600042  北海道  札幌市中央区   大通西（１〜１９丁目）\n",
              "4  0640820  北海道  札幌市中央区  大通西（２０〜２８丁目）"
            ]
          },
          "execution_count": 13,
          "metadata": {},
          "output_type": "execute_result"
        }
      ],
      "source": [
        "df.head(5)"
      ]
    },
    {
      "cell_type": "code",
      "execution_count": null,
      "metadata": {
        "id": "OgS6XnZZWCDJ"
      },
      "outputs": [],
      "source": [
        "df.columns = ['ZIP', 'Pref', 'City', 'Town']"
      ]
    },
    {
      "cell_type": "code",
      "execution_count": null,
      "metadata": {
        "colab": {
          "base_uri": "https://localhost:8080/",
          "height": 203
        },
        "id": "anyhIC6TDuGc",
        "outputId": "c510a26c-6ea7-414d-eed5-72c75195706a"
      },
      "outputs": [
        {
          "data": {
            "text/html": [
              "<div>\n",
              "<style scoped>\n",
              "    .dataframe tbody tr th:only-of-type {\n",
              "        vertical-align: middle;\n",
              "    }\n",
              "\n",
              "    .dataframe tbody tr th {\n",
              "        vertical-align: top;\n",
              "    }\n",
              "\n",
              "    .dataframe thead th {\n",
              "        text-align: right;\n",
              "    }\n",
              "</style>\n",
              "<table border=\"1\" class=\"dataframe\">\n",
              "  <thead>\n",
              "    <tr style=\"text-align: right;\">\n",
              "      <th></th>\n",
              "      <th>ZIP</th>\n",
              "      <th>Pref</th>\n",
              "      <th>City</th>\n",
              "      <th>Town</th>\n",
              "    </tr>\n",
              "  </thead>\n",
              "  <tbody>\n",
              "    <tr>\n",
              "      <th>0</th>\n",
              "      <td>0600000</td>\n",
              "      <td>北海道</td>\n",
              "      <td>札幌市中央区</td>\n",
              "      <td>以下に掲載がない場合</td>\n",
              "    </tr>\n",
              "    <tr>\n",
              "      <th>1</th>\n",
              "      <td>0640941</td>\n",
              "      <td>北海道</td>\n",
              "      <td>札幌市中央区</td>\n",
              "      <td>旭ケ丘</td>\n",
              "    </tr>\n",
              "    <tr>\n",
              "      <th>2</th>\n",
              "      <td>0600041</td>\n",
              "      <td>北海道</td>\n",
              "      <td>札幌市中央区</td>\n",
              "      <td>大通東</td>\n",
              "    </tr>\n",
              "    <tr>\n",
              "      <th>3</th>\n",
              "      <td>0600042</td>\n",
              "      <td>北海道</td>\n",
              "      <td>札幌市中央区</td>\n",
              "      <td>大通西（１〜１９丁目）</td>\n",
              "    </tr>\n",
              "    <tr>\n",
              "      <th>4</th>\n",
              "      <td>0640820</td>\n",
              "      <td>北海道</td>\n",
              "      <td>札幌市中央区</td>\n",
              "      <td>大通西（２０〜２８丁目）</td>\n",
              "    </tr>\n",
              "  </tbody>\n",
              "</table>\n",
              "</div>"
            ],
            "text/plain": [
              "       ZIP Pref    City          Town\n",
              "0  0600000  北海道  札幌市中央区    以下に掲載がない場合\n",
              "1  0640941  北海道  札幌市中央区           旭ケ丘\n",
              "2  0600041  北海道  札幌市中央区           大通東\n",
              "3  0600042  北海道  札幌市中央区   大通西（１〜１９丁目）\n",
              "4  0640820  北海道  札幌市中央区  大通西（２０〜２８丁目）"
            ]
          },
          "execution_count": 15,
          "metadata": {},
          "output_type": "execute_result"
        }
      ],
      "source": [
        "df.head(5)"
      ]
    },
    {
      "cell_type": "code",
      "execution_count": null,
      "metadata": {
        "colab": {
          "base_uri": "https://localhost:8080/",
          "height": 203
        },
        "id": "ifAJIEOnTCRj",
        "outputId": "f337218d-cd26-4ebf-a898-bde5f299f1f3"
      },
      "outputs": [
        {
          "data": {
            "text/html": [
              "<div>\n",
              "<style scoped>\n",
              "    .dataframe tbody tr th:only-of-type {\n",
              "        vertical-align: middle;\n",
              "    }\n",
              "\n",
              "    .dataframe tbody tr th {\n",
              "        vertical-align: top;\n",
              "    }\n",
              "\n",
              "    .dataframe thead th {\n",
              "        text-align: right;\n",
              "    }\n",
              "</style>\n",
              "<table border=\"1\" class=\"dataframe\">\n",
              "  <thead>\n",
              "    <tr style=\"text-align: right;\">\n",
              "      <th></th>\n",
              "      <th>ZIP</th>\n",
              "      <th>Pref</th>\n",
              "      <th>City</th>\n",
              "      <th>Town</th>\n",
              "    </tr>\n",
              "  </thead>\n",
              "  <tbody>\n",
              "    <tr>\n",
              "      <th>124534</th>\n",
              "      <td>9071433</td>\n",
              "      <td>沖縄県</td>\n",
              "      <td>八重山郡竹富町</td>\n",
              "      <td>南風見仲</td>\n",
              "    </tr>\n",
              "    <tr>\n",
              "      <th>124535</th>\n",
              "      <td>9071751</td>\n",
              "      <td>沖縄県</td>\n",
              "      <td>八重山郡竹富町</td>\n",
              "      <td>波照間</td>\n",
              "    </tr>\n",
              "    <tr>\n",
              "      <th>124536</th>\n",
              "      <td>9071544</td>\n",
              "      <td>沖縄県</td>\n",
              "      <td>八重山郡竹富町</td>\n",
              "      <td>鳩間</td>\n",
              "    </tr>\n",
              "    <tr>\n",
              "      <th>124537</th>\n",
              "      <td>9071800</td>\n",
              "      <td>沖縄県</td>\n",
              "      <td>八重山郡与那国町</td>\n",
              "      <td>以下に掲載がない場合</td>\n",
              "    </tr>\n",
              "    <tr>\n",
              "      <th>124538</th>\n",
              "      <td>9071801</td>\n",
              "      <td>沖縄県</td>\n",
              "      <td>八重山郡与那国町</td>\n",
              "      <td>与那国</td>\n",
              "    </tr>\n",
              "  </tbody>\n",
              "</table>\n",
              "</div>"
            ],
            "text/plain": [
              "            ZIP Pref      City        Town\n",
              "124534  9071433  沖縄県   八重山郡竹富町        南風見仲\n",
              "124535  9071751  沖縄県   八重山郡竹富町         波照間\n",
              "124536  9071544  沖縄県   八重山郡竹富町          鳩間\n",
              "124537  9071800  沖縄県  八重山郡与那国町  以下に掲載がない場合\n",
              "124538  9071801  沖縄県  八重山郡与那国町         与那国"
            ]
          },
          "execution_count": 16,
          "metadata": {},
          "output_type": "execute_result"
        }
      ],
      "source": [
        "df.tail(5)"
      ]
    },
    {
      "cell_type": "code",
      "execution_count": null,
      "metadata": {
        "id": "NCwRc1_BiTsi"
      },
      "outputs": [],
      "source": [
        "# df['ZIP'] = df['ZIP'].astype(str)"
      ]
    },
    {
      "cell_type": "code",
      "execution_count": null,
      "metadata": {
        "id": "J1NCsfL6ikw8"
      },
      "outputs": [],
      "source": [
        "# df['ZIP'].dtype"
      ]
    },
    {
      "cell_type": "code",
      "execution_count": null,
      "metadata": {
        "id": "SPguPg2jl70F"
      },
      "outputs": [],
      "source": [
        "# df['ZIP'] = df['ZIP'].str.zfill(7)"
      ]
    },
    {
      "cell_type": "markdown",
      "metadata": {
        "id": "iz4XIOR2EFRH"
      },
      "source": [
        "# Pref ID"
      ]
    },
    {
      "cell_type": "markdown",
      "metadata": {
        "id": "J99xtXvhiYiK"
      },
      "source": [
        "## Import data"
      ]
    },
    {
      "cell_type": "code",
      "execution_count": null,
      "metadata": {
        "id": "lYH_O0n-Dvdi"
      },
      "outputs": [],
      "source": [
        "pref_id = pd.read_csv('./drive/My Drive/Colab Notebooks/01_dataset/zip-code/pref_id.csv', encoding='shift-jis')"
      ]
    },
    {
      "cell_type": "code",
      "execution_count": null,
      "metadata": {
        "colab": {
          "base_uri": "https://localhost:8080/",
          "height": 203
        },
        "id": "hB5OkQlBEf8m",
        "outputId": "053b8dd4-9beb-4a3a-ce2f-91071f10cd6d"
      },
      "outputs": [
        {
          "data": {
            "text/html": [
              "<div>\n",
              "<style scoped>\n",
              "    .dataframe tbody tr th:only-of-type {\n",
              "        vertical-align: middle;\n",
              "    }\n",
              "\n",
              "    .dataframe tbody tr th {\n",
              "        vertical-align: top;\n",
              "    }\n",
              "\n",
              "    .dataframe thead th {\n",
              "        text-align: right;\n",
              "    }\n",
              "</style>\n",
              "<table border=\"1\" class=\"dataframe\">\n",
              "  <thead>\n",
              "    <tr style=\"text-align: right;\">\n",
              "      <th></th>\n",
              "      <th>pref_id</th>\n",
              "      <th>pref_name</th>\n",
              "      <th>pref_name_en</th>\n",
              "    </tr>\n",
              "  </thead>\n",
              "  <tbody>\n",
              "    <tr>\n",
              "      <th>0</th>\n",
              "      <td>645</td>\n",
              "      <td>北海道</td>\n",
              "      <td>Hokkaido</td>\n",
              "    </tr>\n",
              "    <tr>\n",
              "      <th>1</th>\n",
              "      <td>646</td>\n",
              "      <td>青森県</td>\n",
              "      <td>Aomori</td>\n",
              "    </tr>\n",
              "    <tr>\n",
              "      <th>2</th>\n",
              "      <td>647</td>\n",
              "      <td>岩手県</td>\n",
              "      <td>Iwate</td>\n",
              "    </tr>\n",
              "    <tr>\n",
              "      <th>3</th>\n",
              "      <td>648</td>\n",
              "      <td>宮城県</td>\n",
              "      <td>Miyagi</td>\n",
              "    </tr>\n",
              "    <tr>\n",
              "      <th>4</th>\n",
              "      <td>649</td>\n",
              "      <td>秋田県</td>\n",
              "      <td>Akita</td>\n",
              "    </tr>\n",
              "  </tbody>\n",
              "</table>\n",
              "</div>"
            ],
            "text/plain": [
              "   pref_id pref_name pref_name_en\n",
              "0      645       北海道     Hokkaido\n",
              "1      646       青森県       Aomori\n",
              "2      647       岩手県        Iwate\n",
              "3      648       宮城県       Miyagi\n",
              "4      649       秋田県        Akita"
            ]
          },
          "execution_count": 21,
          "metadata": {},
          "output_type": "execute_result"
        }
      ],
      "source": [
        "pref_id.head(5)"
      ]
    },
    {
      "cell_type": "code",
      "execution_count": null,
      "metadata": {
        "colab": {
          "base_uri": "https://localhost:8080/"
        },
        "id": "QQUBJBXUEl_H",
        "outputId": "6aef441a-ce95-4239-cf5d-a542e61c6d0c"
      },
      "outputs": [
        {
          "data": {
            "text/plain": [
              "(47, 3)"
            ]
          },
          "execution_count": 22,
          "metadata": {},
          "output_type": "execute_result"
        }
      ],
      "source": [
        "pref_id.shape"
      ]
    },
    {
      "cell_type": "markdown",
      "metadata": {
        "id": "OAxUYfQZiV2L"
      },
      "source": [
        "## Data shaping"
      ]
    },
    {
      "cell_type": "code",
      "execution_count": null,
      "metadata": {
        "id": "c3jBgpcbHJsn"
      },
      "outputs": [],
      "source": [
        "pref_id = pref_id.rename(columns={'pref_name': 'Pref'})"
      ]
    },
    {
      "cell_type": "code",
      "execution_count": null,
      "metadata": {
        "colab": {
          "base_uri": "https://localhost:8080/",
          "height": 203
        },
        "id": "wEPTZOpiIJ6n",
        "outputId": "b8d93843-0022-4859-aaa8-e7b6d4ed3fa8"
      },
      "outputs": [
        {
          "data": {
            "text/html": [
              "<div>\n",
              "<style scoped>\n",
              "    .dataframe tbody tr th:only-of-type {\n",
              "        vertical-align: middle;\n",
              "    }\n",
              "\n",
              "    .dataframe tbody tr th {\n",
              "        vertical-align: top;\n",
              "    }\n",
              "\n",
              "    .dataframe thead th {\n",
              "        text-align: right;\n",
              "    }\n",
              "</style>\n",
              "<table border=\"1\" class=\"dataframe\">\n",
              "  <thead>\n",
              "    <tr style=\"text-align: right;\">\n",
              "      <th></th>\n",
              "      <th>pref_id</th>\n",
              "      <th>Pref</th>\n",
              "      <th>pref_name_en</th>\n",
              "    </tr>\n",
              "  </thead>\n",
              "  <tbody>\n",
              "    <tr>\n",
              "      <th>0</th>\n",
              "      <td>645</td>\n",
              "      <td>北海道</td>\n",
              "      <td>Hokkaido</td>\n",
              "    </tr>\n",
              "    <tr>\n",
              "      <th>1</th>\n",
              "      <td>646</td>\n",
              "      <td>青森県</td>\n",
              "      <td>Aomori</td>\n",
              "    </tr>\n",
              "    <tr>\n",
              "      <th>2</th>\n",
              "      <td>647</td>\n",
              "      <td>岩手県</td>\n",
              "      <td>Iwate</td>\n",
              "    </tr>\n",
              "    <tr>\n",
              "      <th>3</th>\n",
              "      <td>648</td>\n",
              "      <td>宮城県</td>\n",
              "      <td>Miyagi</td>\n",
              "    </tr>\n",
              "    <tr>\n",
              "      <th>4</th>\n",
              "      <td>649</td>\n",
              "      <td>秋田県</td>\n",
              "      <td>Akita</td>\n",
              "    </tr>\n",
              "  </tbody>\n",
              "</table>\n",
              "</div>"
            ],
            "text/plain": [
              "   pref_id Pref pref_name_en\n",
              "0      645  北海道     Hokkaido\n",
              "1      646  青森県       Aomori\n",
              "2      647  岩手県        Iwate\n",
              "3      648  宮城県       Miyagi\n",
              "4      649  秋田県        Akita"
            ]
          },
          "execution_count": 24,
          "metadata": {},
          "output_type": "execute_result"
        }
      ],
      "source": [
        "pref_id.head(5)"
      ]
    },
    {
      "cell_type": "markdown",
      "metadata": {
        "id": "rCv1JdWOFL8X"
      },
      "source": [
        "# Merge zip code and pref ID"
      ]
    },
    {
      "cell_type": "code",
      "execution_count": null,
      "metadata": {
        "id": "HDQVYH1VEoFT"
      },
      "outputs": [],
      "source": [
        "df = df.merge(pref_id, on='Pref')"
      ]
    },
    {
      "cell_type": "code",
      "execution_count": null,
      "metadata": {
        "colab": {
          "base_uri": "https://localhost:8080/"
        },
        "id": "_inSsprvMI01",
        "outputId": "17964f24-1978-4bd6-d674-4b08a048d457"
      },
      "outputs": [
        {
          "data": {
            "text/plain": [
              "(124539, 6)"
            ]
          },
          "execution_count": 26,
          "metadata": {},
          "output_type": "execute_result"
        }
      ],
      "source": [
        "df.shape"
      ]
    },
    {
      "cell_type": "code",
      "execution_count": null,
      "metadata": {
        "colab": {
          "base_uri": "https://localhost:8080/",
          "height": 203
        },
        "id": "crGwILUEISkj",
        "outputId": "0caeee45-8f44-43fd-bbf7-23a6a09fbd13"
      },
      "outputs": [
        {
          "data": {
            "text/html": [
              "<div>\n",
              "<style scoped>\n",
              "    .dataframe tbody tr th:only-of-type {\n",
              "        vertical-align: middle;\n",
              "    }\n",
              "\n",
              "    .dataframe tbody tr th {\n",
              "        vertical-align: top;\n",
              "    }\n",
              "\n",
              "    .dataframe thead th {\n",
              "        text-align: right;\n",
              "    }\n",
              "</style>\n",
              "<table border=\"1\" class=\"dataframe\">\n",
              "  <thead>\n",
              "    <tr style=\"text-align: right;\">\n",
              "      <th></th>\n",
              "      <th>ZIP</th>\n",
              "      <th>Pref</th>\n",
              "      <th>City</th>\n",
              "      <th>Town</th>\n",
              "      <th>pref_id</th>\n",
              "      <th>pref_name_en</th>\n",
              "    </tr>\n",
              "  </thead>\n",
              "  <tbody>\n",
              "    <tr>\n",
              "      <th>0</th>\n",
              "      <td>0600000</td>\n",
              "      <td>北海道</td>\n",
              "      <td>札幌市中央区</td>\n",
              "      <td>以下に掲載がない場合</td>\n",
              "      <td>645</td>\n",
              "      <td>Hokkaido</td>\n",
              "    </tr>\n",
              "    <tr>\n",
              "      <th>1</th>\n",
              "      <td>0640941</td>\n",
              "      <td>北海道</td>\n",
              "      <td>札幌市中央区</td>\n",
              "      <td>旭ケ丘</td>\n",
              "      <td>645</td>\n",
              "      <td>Hokkaido</td>\n",
              "    </tr>\n",
              "    <tr>\n",
              "      <th>2</th>\n",
              "      <td>0600041</td>\n",
              "      <td>北海道</td>\n",
              "      <td>札幌市中央区</td>\n",
              "      <td>大通東</td>\n",
              "      <td>645</td>\n",
              "      <td>Hokkaido</td>\n",
              "    </tr>\n",
              "    <tr>\n",
              "      <th>3</th>\n",
              "      <td>0600042</td>\n",
              "      <td>北海道</td>\n",
              "      <td>札幌市中央区</td>\n",
              "      <td>大通西（１〜１９丁目）</td>\n",
              "      <td>645</td>\n",
              "      <td>Hokkaido</td>\n",
              "    </tr>\n",
              "    <tr>\n",
              "      <th>4</th>\n",
              "      <td>0640820</td>\n",
              "      <td>北海道</td>\n",
              "      <td>札幌市中央区</td>\n",
              "      <td>大通西（２０〜２８丁目）</td>\n",
              "      <td>645</td>\n",
              "      <td>Hokkaido</td>\n",
              "    </tr>\n",
              "  </tbody>\n",
              "</table>\n",
              "</div>"
            ],
            "text/plain": [
              "       ZIP Pref    City          Town  pref_id pref_name_en\n",
              "0  0600000  北海道  札幌市中央区    以下に掲載がない場合      645     Hokkaido\n",
              "1  0640941  北海道  札幌市中央区           旭ケ丘      645     Hokkaido\n",
              "2  0600041  北海道  札幌市中央区           大通東      645     Hokkaido\n",
              "3  0600042  北海道  札幌市中央区   大通西（１〜１９丁目）      645     Hokkaido\n",
              "4  0640820  北海道  札幌市中央区  大通西（２０〜２８丁目）      645     Hokkaido"
            ]
          },
          "execution_count": 27,
          "metadata": {},
          "output_type": "execute_result"
        }
      ],
      "source": [
        "df.head(5)"
      ]
    },
    {
      "cell_type": "code",
      "execution_count": null,
      "metadata": {
        "id": "gWQPa63qMFCy"
      },
      "outputs": [],
      "source": [
        "df = df[['ZIP', 'pref_id', 'Pref', 'pref_name_en', 'City', 'Town']]"
      ]
    },
    {
      "cell_type": "code",
      "execution_count": null,
      "metadata": {
        "colab": {
          "base_uri": "https://localhost:8080/",
          "height": 203
        },
        "id": "SE6BnMqhpfka",
        "outputId": "f4ed03a7-fc23-40ee-8cd8-73ff2041ca06"
      },
      "outputs": [
        {
          "data": {
            "text/html": [
              "<div>\n",
              "<style scoped>\n",
              "    .dataframe tbody tr th:only-of-type {\n",
              "        vertical-align: middle;\n",
              "    }\n",
              "\n",
              "    .dataframe tbody tr th {\n",
              "        vertical-align: top;\n",
              "    }\n",
              "\n",
              "    .dataframe thead th {\n",
              "        text-align: right;\n",
              "    }\n",
              "</style>\n",
              "<table border=\"1\" class=\"dataframe\">\n",
              "  <thead>\n",
              "    <tr style=\"text-align: right;\">\n",
              "      <th></th>\n",
              "      <th>ZIP</th>\n",
              "      <th>pref_id</th>\n",
              "      <th>Pref</th>\n",
              "      <th>pref_name_en</th>\n",
              "      <th>City</th>\n",
              "      <th>Town</th>\n",
              "    </tr>\n",
              "  </thead>\n",
              "  <tbody>\n",
              "    <tr>\n",
              "      <th>0</th>\n",
              "      <td>0600000</td>\n",
              "      <td>645</td>\n",
              "      <td>北海道</td>\n",
              "      <td>Hokkaido</td>\n",
              "      <td>札幌市中央区</td>\n",
              "      <td>以下に掲載がない場合</td>\n",
              "    </tr>\n",
              "    <tr>\n",
              "      <th>1</th>\n",
              "      <td>0640941</td>\n",
              "      <td>645</td>\n",
              "      <td>北海道</td>\n",
              "      <td>Hokkaido</td>\n",
              "      <td>札幌市中央区</td>\n",
              "      <td>旭ケ丘</td>\n",
              "    </tr>\n",
              "    <tr>\n",
              "      <th>2</th>\n",
              "      <td>0600041</td>\n",
              "      <td>645</td>\n",
              "      <td>北海道</td>\n",
              "      <td>Hokkaido</td>\n",
              "      <td>札幌市中央区</td>\n",
              "      <td>大通東</td>\n",
              "    </tr>\n",
              "    <tr>\n",
              "      <th>3</th>\n",
              "      <td>0600042</td>\n",
              "      <td>645</td>\n",
              "      <td>北海道</td>\n",
              "      <td>Hokkaido</td>\n",
              "      <td>札幌市中央区</td>\n",
              "      <td>大通西（１〜１９丁目）</td>\n",
              "    </tr>\n",
              "    <tr>\n",
              "      <th>4</th>\n",
              "      <td>0640820</td>\n",
              "      <td>645</td>\n",
              "      <td>北海道</td>\n",
              "      <td>Hokkaido</td>\n",
              "      <td>札幌市中央区</td>\n",
              "      <td>大通西（２０〜２８丁目）</td>\n",
              "    </tr>\n",
              "  </tbody>\n",
              "</table>\n",
              "</div>"
            ],
            "text/plain": [
              "       ZIP  pref_id Pref pref_name_en    City          Town\n",
              "0  0600000      645  北海道     Hokkaido  札幌市中央区    以下に掲載がない場合\n",
              "1  0640941      645  北海道     Hokkaido  札幌市中央区           旭ケ丘\n",
              "2  0600041      645  北海道     Hokkaido  札幌市中央区           大通東\n",
              "3  0600042      645  北海道     Hokkaido  札幌市中央区   大通西（１〜１９丁目）\n",
              "4  0640820      645  北海道     Hokkaido  札幌市中央区  大通西（２０〜２８丁目）"
            ]
          },
          "execution_count": 29,
          "metadata": {},
          "output_type": "execute_result"
        }
      ],
      "source": [
        "df.head(5)"
      ]
    },
    {
      "cell_type": "markdown",
      "metadata": {
        "id": "yMCbG0oiqrey"
      },
      "source": [
        "# Remove unwanted data"
      ]
    },
    {
      "cell_type": "markdown",
      "metadata": {
        "id": "SXIo2F4qdxYy"
      },
      "source": [
        "## (1) remove \"以下に記載がない場合\"\n",
        "\n"
      ]
    },
    {
      "cell_type": "code",
      "execution_count": null,
      "metadata": {
        "colab": {
          "base_uri": "https://localhost:8080/"
        },
        "id": "nFMF-j3Tqgzf",
        "outputId": "cf3bb6fa-084d-452d-de39-f56d9a1ab52b"
      },
      "outputs": [
        {
          "data": {
            "text/plain": [
              "False    122665\n",
              "True       1874\n",
              "Name: Town, dtype: int64"
            ]
          },
          "execution_count": 30,
          "metadata": {},
          "output_type": "execute_result"
        }
      ],
      "source": [
        "df['Town'].str.contains('以下に掲載がない場合').value_counts()"
      ]
    },
    {
      "cell_type": "code",
      "execution_count": null,
      "metadata": {
        "id": "nfFhFwZbbsdG"
      },
      "outputs": [],
      "source": [
        "df['Town'] = df['Town'].str.replace('以下に掲載がない場合', '')"
      ]
    },
    {
      "cell_type": "code",
      "execution_count": null,
      "metadata": {
        "colab": {
          "base_uri": "https://localhost:8080/"
        },
        "id": "czp5jaa_cmH-",
        "outputId": "3f182eed-e7ec-4727-99c3-a0ea74094964"
      },
      "outputs": [
        {
          "data": {
            "text/plain": [
              "False    124539\n",
              "Name: Town, dtype: int64"
            ]
          },
          "execution_count": 32,
          "metadata": {},
          "output_type": "execute_result"
        }
      ],
      "source": [
        "df['Town'].str.contains('以下に掲載がない場合').value_counts()"
      ]
    },
    {
      "cell_type": "markdown",
      "metadata": {
        "id": "4Gr574zDeK08"
      },
      "source": [
        "## (2) remove カッコの入っている住所　（例：大通西（１～１９丁目）"
      ]
    },
    {
      "cell_type": "code",
      "execution_count": null,
      "metadata": {
        "colab": {
          "base_uri": "https://localhost:8080/"
        },
        "id": "PNEczTWEcooe",
        "outputId": "01459f2c-d049-4742-a50e-a1b8f4a7889b"
      },
      "outputs": [
        {
          "data": {
            "text/plain": [
              "False    118106\n",
              "True       6433\n",
              "Name: Town, dtype: int64"
            ]
          },
          "execution_count": 33,
          "metadata": {},
          "output_type": "execute_result"
        }
      ],
      "source": [
        "df['Town'].str.contains('（').value_counts()"
      ]
    },
    {
      "cell_type": "code",
      "execution_count": null,
      "metadata": {
        "id": "CF9AOblaer8R"
      },
      "outputs": [],
      "source": [
        "df['Town'] = df['Town'].str.split('（').str[0]"
      ]
    },
    {
      "cell_type": "code",
      "execution_count": null,
      "metadata": {
        "colab": {
          "base_uri": "https://localhost:8080/"
        },
        "id": "lQaQw9oMgaJ4",
        "outputId": "799b8740-0162-463a-c3a9-898585499703"
      },
      "outputs": [
        {
          "data": {
            "text/plain": [
              "False    124539\n",
              "Name: Town, dtype: int64"
            ]
          },
          "execution_count": 35,
          "metadata": {},
          "output_type": "execute_result"
        }
      ],
      "source": [
        "df['Town'].str.contains('（').value_counts()"
      ]
    },
    {
      "cell_type": "code",
      "execution_count": null,
      "metadata": {
        "colab": {
          "base_uri": "https://localhost:8080/",
          "height": 203
        },
        "id": "qBLDAlkJf5Et",
        "outputId": "17b6e73a-5528-4780-9210-704408dffe3f"
      },
      "outputs": [
        {
          "data": {
            "text/html": [
              "<div>\n",
              "<style scoped>\n",
              "    .dataframe tbody tr th:only-of-type {\n",
              "        vertical-align: middle;\n",
              "    }\n",
              "\n",
              "    .dataframe tbody tr th {\n",
              "        vertical-align: top;\n",
              "    }\n",
              "\n",
              "    .dataframe thead th {\n",
              "        text-align: right;\n",
              "    }\n",
              "</style>\n",
              "<table border=\"1\" class=\"dataframe\">\n",
              "  <thead>\n",
              "    <tr style=\"text-align: right;\">\n",
              "      <th></th>\n",
              "      <th>ZIP</th>\n",
              "      <th>pref_id</th>\n",
              "      <th>Pref</th>\n",
              "      <th>pref_name_en</th>\n",
              "      <th>City</th>\n",
              "      <th>Town</th>\n",
              "    </tr>\n",
              "  </thead>\n",
              "  <tbody>\n",
              "    <tr>\n",
              "      <th>0</th>\n",
              "      <td>0600000</td>\n",
              "      <td>645</td>\n",
              "      <td>北海道</td>\n",
              "      <td>Hokkaido</td>\n",
              "      <td>札幌市中央区</td>\n",
              "      <td></td>\n",
              "    </tr>\n",
              "    <tr>\n",
              "      <th>1</th>\n",
              "      <td>0640941</td>\n",
              "      <td>645</td>\n",
              "      <td>北海道</td>\n",
              "      <td>Hokkaido</td>\n",
              "      <td>札幌市中央区</td>\n",
              "      <td>旭ケ丘</td>\n",
              "    </tr>\n",
              "    <tr>\n",
              "      <th>2</th>\n",
              "      <td>0600041</td>\n",
              "      <td>645</td>\n",
              "      <td>北海道</td>\n",
              "      <td>Hokkaido</td>\n",
              "      <td>札幌市中央区</td>\n",
              "      <td>大通東</td>\n",
              "    </tr>\n",
              "    <tr>\n",
              "      <th>3</th>\n",
              "      <td>0600042</td>\n",
              "      <td>645</td>\n",
              "      <td>北海道</td>\n",
              "      <td>Hokkaido</td>\n",
              "      <td>札幌市中央区</td>\n",
              "      <td>大通西</td>\n",
              "    </tr>\n",
              "    <tr>\n",
              "      <th>4</th>\n",
              "      <td>0640820</td>\n",
              "      <td>645</td>\n",
              "      <td>北海道</td>\n",
              "      <td>Hokkaido</td>\n",
              "      <td>札幌市中央区</td>\n",
              "      <td>大通西</td>\n",
              "    </tr>\n",
              "  </tbody>\n",
              "</table>\n",
              "</div>"
            ],
            "text/plain": [
              "       ZIP  pref_id Pref pref_name_en    City Town\n",
              "0  0600000      645  北海道     Hokkaido  札幌市中央区     \n",
              "1  0640941      645  北海道     Hokkaido  札幌市中央区  旭ケ丘\n",
              "2  0600041      645  北海道     Hokkaido  札幌市中央区  大通東\n",
              "3  0600042      645  北海道     Hokkaido  札幌市中央区  大通西\n",
              "4  0640820      645  北海道     Hokkaido  札幌市中央区  大通西"
            ]
          },
          "execution_count": 36,
          "metadata": {},
          "output_type": "execute_result"
        }
      ],
      "source": [
        "df.head(5)"
      ]
    },
    {
      "cell_type": "code",
      "execution_count": null,
      "metadata": {
        "colab": {
          "base_uri": "https://localhost:8080/",
          "height": 203
        },
        "id": "0rQ8EU0Pg4xO",
        "outputId": "ec0a2629-d714-4826-95fa-0b58811cd50d"
      },
      "outputs": [
        {
          "data": {
            "text/html": [
              "<div>\n",
              "<style scoped>\n",
              "    .dataframe tbody tr th:only-of-type {\n",
              "        vertical-align: middle;\n",
              "    }\n",
              "\n",
              "    .dataframe tbody tr th {\n",
              "        vertical-align: top;\n",
              "    }\n",
              "\n",
              "    .dataframe thead th {\n",
              "        text-align: right;\n",
              "    }\n",
              "</style>\n",
              "<table border=\"1\" class=\"dataframe\">\n",
              "  <thead>\n",
              "    <tr style=\"text-align: right;\">\n",
              "      <th></th>\n",
              "      <th>ZIP</th>\n",
              "      <th>pref_id</th>\n",
              "      <th>Pref</th>\n",
              "      <th>pref_name_en</th>\n",
              "      <th>City</th>\n",
              "      <th>Town</th>\n",
              "    </tr>\n",
              "  </thead>\n",
              "  <tbody>\n",
              "    <tr>\n",
              "      <th>124534</th>\n",
              "      <td>9071433</td>\n",
              "      <td>691</td>\n",
              "      <td>沖縄県</td>\n",
              "      <td>Okinawa</td>\n",
              "      <td>八重山郡竹富町</td>\n",
              "      <td>南風見仲</td>\n",
              "    </tr>\n",
              "    <tr>\n",
              "      <th>124535</th>\n",
              "      <td>9071751</td>\n",
              "      <td>691</td>\n",
              "      <td>沖縄県</td>\n",
              "      <td>Okinawa</td>\n",
              "      <td>八重山郡竹富町</td>\n",
              "      <td>波照間</td>\n",
              "    </tr>\n",
              "    <tr>\n",
              "      <th>124536</th>\n",
              "      <td>9071544</td>\n",
              "      <td>691</td>\n",
              "      <td>沖縄県</td>\n",
              "      <td>Okinawa</td>\n",
              "      <td>八重山郡竹富町</td>\n",
              "      <td>鳩間</td>\n",
              "    </tr>\n",
              "    <tr>\n",
              "      <th>124537</th>\n",
              "      <td>9071800</td>\n",
              "      <td>691</td>\n",
              "      <td>沖縄県</td>\n",
              "      <td>Okinawa</td>\n",
              "      <td>八重山郡与那国町</td>\n",
              "      <td></td>\n",
              "    </tr>\n",
              "    <tr>\n",
              "      <th>124538</th>\n",
              "      <td>9071801</td>\n",
              "      <td>691</td>\n",
              "      <td>沖縄県</td>\n",
              "      <td>Okinawa</td>\n",
              "      <td>八重山郡与那国町</td>\n",
              "      <td>与那国</td>\n",
              "    </tr>\n",
              "  </tbody>\n",
              "</table>\n",
              "</div>"
            ],
            "text/plain": [
              "            ZIP  pref_id Pref pref_name_en      City  Town\n",
              "124534  9071433      691  沖縄県      Okinawa   八重山郡竹富町  南風見仲\n",
              "124535  9071751      691  沖縄県      Okinawa   八重山郡竹富町   波照間\n",
              "124536  9071544      691  沖縄県      Okinawa   八重山郡竹富町    鳩間\n",
              "124537  9071800      691  沖縄県      Okinawa  八重山郡与那国町      \n",
              "124538  9071801      691  沖縄県      Okinawa  八重山郡与那国町   与那国"
            ]
          },
          "execution_count": 37,
          "metadata": {},
          "output_type": "execute_result"
        }
      ],
      "source": [
        "df.tail(5)"
      ]
    },
    {
      "cell_type": "markdown",
      "metadata": {
        "id": "kTa17hstgeH4"
      },
      "source": [
        "## (3) 同じ郵便番号に複数の住所が存在するもの"
      ]
    },
    {
      "cell_type": "markdown",
      "metadata": {
        "id": "fUqRuvKSI-yq"
      },
      "source": [
        "### Check duplicated rows with ZIP"
      ]
    },
    {
      "cell_type": "code",
      "execution_count": null,
      "metadata": {
        "id": "OjXlFFvcgUOG"
      },
      "outputs": [],
      "source": [
        "dupZIP = df.duplicated(subset='ZIP', keep=False)"
      ]
    },
    {
      "cell_type": "code",
      "execution_count": null,
      "metadata": {
        "colab": {
          "base_uri": "https://localhost:8080/"
        },
        "id": "JZ19P9TnYP0a",
        "outputId": "96dc7f95-2483-47d6-ffcb-1a6220367380"
      },
      "outputs": [
        {
          "data": {
            "text/plain": [
              "0         False\n",
              "1         False\n",
              "2         False\n",
              "3         False\n",
              "4         False\n",
              "          ...  \n",
              "124534    False\n",
              "124535    False\n",
              "124536    False\n",
              "124537    False\n",
              "124538    False\n",
              "Length: 124539, dtype: bool"
            ]
          },
          "execution_count": 39,
          "metadata": {},
          "output_type": "execute_result"
        }
      ],
      "source": [
        "dupZIP"
      ]
    },
    {
      "cell_type": "code",
      "execution_count": null,
      "metadata": {
        "colab": {
          "base_uri": "https://localhost:8080/"
        },
        "id": "3zPZscAeqfn1",
        "outputId": "0d393585-ee03-4565-a36d-9501a20a78d2"
      },
      "outputs": [
        {
          "data": {
            "text/plain": [
              "5683"
            ]
          },
          "execution_count": 40,
          "metadata": {},
          "output_type": "execute_result"
        }
      ],
      "source": [
        "dupZIP.sum()"
      ]
    },
    {
      "cell_type": "code",
      "execution_count": null,
      "metadata": {
        "colab": {
          "base_uri": "https://localhost:8080/"
        },
        "id": "OHSoRDCdoAXK",
        "outputId": "43036e8d-6b8d-463c-c68c-30b7c0ef92a8"
      },
      "outputs": [
        {
          "data": {
            "text/plain": [
              "ZIP             1543\n",
              "pref_id           47\n",
              "Pref              47\n",
              "pref_name_en      47\n",
              "City             448\n",
              "Town            4813\n",
              "dtype: int64"
            ]
          },
          "execution_count": 41,
          "metadata": {},
          "output_type": "execute_result"
        }
      ],
      "source": [
        "df[dupZIP].nunique()"
      ]
    },
    {
      "cell_type": "code",
      "execution_count": null,
      "metadata": {
        "id": "OCWeKFasiv6G"
      },
      "outputs": [],
      "source": [
        "dfDupZip = df[dupZIP].sort_values(by=['ZIP'])"
      ]
    },
    {
      "cell_type": "code",
      "execution_count": null,
      "metadata": {
        "colab": {
          "base_uri": "https://localhost:8080/",
          "height": 417
        },
        "id": "s3gSOeCP46Jv",
        "outputId": "dde224cf-af30-439a-d9f4-c49fdee7d744"
      },
      "outputs": [
        {
          "data": {
            "text/html": [
              "<div>\n",
              "<style scoped>\n",
              "    .dataframe tbody tr th:only-of-type {\n",
              "        vertical-align: middle;\n",
              "    }\n",
              "\n",
              "    .dataframe tbody tr th {\n",
              "        vertical-align: top;\n",
              "    }\n",
              "\n",
              "    .dataframe thead th {\n",
              "        text-align: right;\n",
              "    }\n",
              "</style>\n",
              "<table border=\"1\" class=\"dataframe\">\n",
              "  <thead>\n",
              "    <tr style=\"text-align: right;\">\n",
              "      <th></th>\n",
              "      <th>ZIP</th>\n",
              "      <th>pref_id</th>\n",
              "      <th>Pref</th>\n",
              "      <th>pref_name_en</th>\n",
              "      <th>City</th>\n",
              "      <th>Town</th>\n",
              "    </tr>\n",
              "  </thead>\n",
              "  <tbody>\n",
              "    <tr>\n",
              "      <th>661</th>\n",
              "      <td>0040000</td>\n",
              "      <td>645</td>\n",
              "      <td>北海道</td>\n",
              "      <td>Hokkaido</td>\n",
              "      <td>札幌市厚別区</td>\n",
              "      <td></td>\n",
              "    </tr>\n",
              "    <tr>\n",
              "      <th>772</th>\n",
              "      <td>0040000</td>\n",
              "      <td>645</td>\n",
              "      <td>北海道</td>\n",
              "      <td>Hokkaido</td>\n",
              "      <td>札幌市清田区</td>\n",
              "      <td></td>\n",
              "    </tr>\n",
              "    <tr>\n",
              "      <th>16394</th>\n",
              "      <td>0110951</td>\n",
              "      <td>649</td>\n",
              "      <td>秋田県</td>\n",
              "      <td>Akita</td>\n",
              "      <td>秋田市</td>\n",
              "      <td>土崎港古川町</td>\n",
              "    </tr>\n",
              "    <tr>\n",
              "      <th>16391</th>\n",
              "      <td>0110951</td>\n",
              "      <td>649</td>\n",
              "      <td>秋田県</td>\n",
              "      <td>Akita</td>\n",
              "      <td>秋田市</td>\n",
              "      <td>土崎港相染町</td>\n",
              "    </tr>\n",
              "    <tr>\n",
              "      <th>17340</th>\n",
              "      <td>0120823</td>\n",
              "      <td>649</td>\n",
              "      <td>秋田県</td>\n",
              "      <td>Akita</td>\n",
              "      <td>湯沢市</td>\n",
              "      <td>湯ノ上山</td>\n",
              "    </tr>\n",
              "    <tr>\n",
              "      <th>...</th>\n",
              "      <td>...</td>\n",
              "      <td>...</td>\n",
              "      <td>...</td>\n",
              "      <td>...</td>\n",
              "      <td>...</td>\n",
              "      <td>...</td>\n",
              "    </tr>\n",
              "    <tr>\n",
              "      <th>19174</th>\n",
              "      <td>9996831</td>\n",
              "      <td>650</td>\n",
              "      <td>山形県</td>\n",
              "      <td>Yamagata</td>\n",
              "      <td>酒田市</td>\n",
              "      <td>総光寺沢</td>\n",
              "    </tr>\n",
              "    <tr>\n",
              "      <th>19130</th>\n",
              "      <td>9996835</td>\n",
              "      <td>650</td>\n",
              "      <td>山形県</td>\n",
              "      <td>Yamagata</td>\n",
              "      <td>酒田市</td>\n",
              "      <td>蔵小路</td>\n",
              "    </tr>\n",
              "    <tr>\n",
              "      <th>19248</th>\n",
              "      <td>9996835</td>\n",
              "      <td>650</td>\n",
              "      <td>山形県</td>\n",
              "      <td>Yamagata</td>\n",
              "      <td>酒田市</td>\n",
              "      <td>本町</td>\n",
              "    </tr>\n",
              "    <tr>\n",
              "      <th>19166</th>\n",
              "      <td>9996837</td>\n",
              "      <td>650</td>\n",
              "      <td>山形県</td>\n",
              "      <td>Yamagata</td>\n",
              "      <td>酒田市</td>\n",
              "      <td>新町</td>\n",
              "    </tr>\n",
              "    <tr>\n",
              "      <th>19095</th>\n",
              "      <td>9996837</td>\n",
              "      <td>650</td>\n",
              "      <td>山形県</td>\n",
              "      <td>Yamagata</td>\n",
              "      <td>酒田市</td>\n",
              "      <td>金谷</td>\n",
              "    </tr>\n",
              "  </tbody>\n",
              "</table>\n",
              "<p>5683 rows × 6 columns</p>\n",
              "</div>"
            ],
            "text/plain": [
              "           ZIP  pref_id Pref pref_name_en    City    Town\n",
              "661    0040000      645  北海道     Hokkaido  札幌市厚別区        \n",
              "772    0040000      645  北海道     Hokkaido  札幌市清田区        \n",
              "16394  0110951      649  秋田県        Akita     秋田市  土崎港古川町\n",
              "16391  0110951      649  秋田県        Akita     秋田市  土崎港相染町\n",
              "17340  0120823      649  秋田県        Akita     湯沢市    湯ノ上山\n",
              "...        ...      ...  ...          ...     ...     ...\n",
              "19174  9996831      650  山形県     Yamagata     酒田市    総光寺沢\n",
              "19130  9996835      650  山形県     Yamagata     酒田市     蔵小路\n",
              "19248  9996835      650  山形県     Yamagata     酒田市      本町\n",
              "19166  9996837      650  山形県     Yamagata     酒田市      新町\n",
              "19095  9996837      650  山形県     Yamagata     酒田市      金谷\n",
              "\n",
              "[5683 rows x 6 columns]"
            ]
          },
          "execution_count": 43,
          "metadata": {},
          "output_type": "execute_result"
        }
      ],
      "source": [
        "dfDupZip"
      ]
    },
    {
      "cell_type": "markdown",
      "metadata": {
        "id": "w3H8yuwhJFIT"
      },
      "source": [
        "### Delete town from rows with duplicated ZIP"
      ]
    },
    {
      "cell_type": "code",
      "execution_count": null,
      "metadata": {
        "colab": {
          "base_uri": "https://localhost:8080/"
        },
        "id": "5bItjYYJpQz9",
        "outputId": "e3570333-28b9-4d79-d66c-797639e796d6"
      },
      "outputs": [
        {
          "data": {
            "text/plain": [
              "0         False\n",
              "1         False\n",
              "2         False\n",
              "3         False\n",
              "4         False\n",
              "          ...  \n",
              "124534    False\n",
              "124535    False\n",
              "124536    False\n",
              "124537    False\n",
              "124538    False\n",
              "Length: 124539, dtype: bool"
            ]
          },
          "execution_count": 44,
          "metadata": {},
          "output_type": "execute_result"
        }
      ],
      "source": [
        "dupZIP"
      ]
    },
    {
      "cell_type": "code",
      "execution_count": null,
      "metadata": {
        "id": "IJ_HFKb4YcW4"
      },
      "outputs": [],
      "source": [
        "df.loc[dupZIP, ['Town']] = ''"
      ]
    },
    {
      "cell_type": "code",
      "execution_count": null,
      "metadata": {
        "colab": {
          "base_uri": "https://localhost:8080/",
          "height": 417
        },
        "id": "crZuSpmXhiSZ",
        "outputId": "ecbda9b1-f188-41eb-f6b3-0b3fc46731a2"
      },
      "outputs": [
        {
          "data": {
            "text/html": [
              "<div>\n",
              "<style scoped>\n",
              "    .dataframe tbody tr th:only-of-type {\n",
              "        vertical-align: middle;\n",
              "    }\n",
              "\n",
              "    .dataframe tbody tr th {\n",
              "        vertical-align: top;\n",
              "    }\n",
              "\n",
              "    .dataframe thead th {\n",
              "        text-align: right;\n",
              "    }\n",
              "</style>\n",
              "<table border=\"1\" class=\"dataframe\">\n",
              "  <thead>\n",
              "    <tr style=\"text-align: right;\">\n",
              "      <th></th>\n",
              "      <th>ZIP</th>\n",
              "      <th>pref_id</th>\n",
              "      <th>Pref</th>\n",
              "      <th>pref_name_en</th>\n",
              "      <th>City</th>\n",
              "      <th>Town</th>\n",
              "    </tr>\n",
              "  </thead>\n",
              "  <tbody>\n",
              "    <tr>\n",
              "      <th>661</th>\n",
              "      <td>0040000</td>\n",
              "      <td>645</td>\n",
              "      <td>北海道</td>\n",
              "      <td>Hokkaido</td>\n",
              "      <td>札幌市厚別区</td>\n",
              "      <td></td>\n",
              "    </tr>\n",
              "    <tr>\n",
              "      <th>772</th>\n",
              "      <td>0040000</td>\n",
              "      <td>645</td>\n",
              "      <td>北海道</td>\n",
              "      <td>Hokkaido</td>\n",
              "      <td>札幌市清田区</td>\n",
              "      <td></td>\n",
              "    </tr>\n",
              "    <tr>\n",
              "      <th>1969</th>\n",
              "      <td>0680546</td>\n",
              "      <td>645</td>\n",
              "      <td>北海道</td>\n",
              "      <td>Hokkaido</td>\n",
              "      <td>夕張市</td>\n",
              "      <td></td>\n",
              "    </tr>\n",
              "    <tr>\n",
              "      <th>1973</th>\n",
              "      <td>0680546</td>\n",
              "      <td>645</td>\n",
              "      <td>北海道</td>\n",
              "      <td>Hokkaido</td>\n",
              "      <td>夕張市</td>\n",
              "      <td></td>\n",
              "    </tr>\n",
              "    <tr>\n",
              "      <th>2287</th>\n",
              "      <td>0770013</td>\n",
              "      <td>645</td>\n",
              "      <td>北海道</td>\n",
              "      <td>Hokkaido</td>\n",
              "      <td>留萌市</td>\n",
              "      <td></td>\n",
              "    </tr>\n",
              "    <tr>\n",
              "      <th>...</th>\n",
              "      <td>...</td>\n",
              "      <td>...</td>\n",
              "      <td>...</td>\n",
              "      <td>...</td>\n",
              "      <td>...</td>\n",
              "      <td>...</td>\n",
              "    </tr>\n",
              "    <tr>\n",
              "      <th>123351</th>\n",
              "      <td>8900000</td>\n",
              "      <td>690</td>\n",
              "      <td>鹿児島県</td>\n",
              "      <td>Kagoshima</td>\n",
              "      <td>鹿児島郡三島村</td>\n",
              "      <td></td>\n",
              "    </tr>\n",
              "    <tr>\n",
              "      <th>123836</th>\n",
              "      <td>9070000</td>\n",
              "      <td>691</td>\n",
              "      <td>沖縄県</td>\n",
              "      <td>Okinawa</td>\n",
              "      <td>石垣市</td>\n",
              "      <td></td>\n",
              "    </tr>\n",
              "    <tr>\n",
              "      <th>123980</th>\n",
              "      <td>9042162</td>\n",
              "      <td>691</td>\n",
              "      <td>沖縄県</td>\n",
              "      <td>Okinawa</td>\n",
              "      <td>沖縄市</td>\n",
              "      <td></td>\n",
              "    </tr>\n",
              "    <tr>\n",
              "      <th>123981</th>\n",
              "      <td>9042162</td>\n",
              "      <td>691</td>\n",
              "      <td>沖縄県</td>\n",
              "      <td>Okinawa</td>\n",
              "      <td>沖縄市</td>\n",
              "      <td></td>\n",
              "    </tr>\n",
              "    <tr>\n",
              "      <th>124523</th>\n",
              "      <td>9070000</td>\n",
              "      <td>691</td>\n",
              "      <td>沖縄県</td>\n",
              "      <td>Okinawa</td>\n",
              "      <td>八重山郡竹富町</td>\n",
              "      <td></td>\n",
              "    </tr>\n",
              "  </tbody>\n",
              "</table>\n",
              "<p>5683 rows × 6 columns</p>\n",
              "</div>"
            ],
            "text/plain": [
              "            ZIP  pref_id  Pref pref_name_en     City Town\n",
              "661     0040000      645   北海道     Hokkaido   札幌市厚別区     \n",
              "772     0040000      645   北海道     Hokkaido   札幌市清田区     \n",
              "1969    0680546      645   北海道     Hokkaido      夕張市     \n",
              "1973    0680546      645   北海道     Hokkaido      夕張市     \n",
              "2287    0770013      645   北海道     Hokkaido      留萌市     \n",
              "...         ...      ...   ...          ...      ...  ...\n",
              "123351  8900000      690  鹿児島県    Kagoshima  鹿児島郡三島村     \n",
              "123836  9070000      691   沖縄県      Okinawa      石垣市     \n",
              "123980  9042162      691   沖縄県      Okinawa      沖縄市     \n",
              "123981  9042162      691   沖縄県      Okinawa      沖縄市     \n",
              "124523  9070000      691   沖縄県      Okinawa  八重山郡竹富町     \n",
              "\n",
              "[5683 rows x 6 columns]"
            ]
          },
          "execution_count": 46,
          "metadata": {},
          "output_type": "execute_result"
        }
      ],
      "source": [
        "df.loc[dupZIP]"
      ]
    },
    {
      "cell_type": "code",
      "execution_count": null,
      "metadata": {
        "colab": {
          "base_uri": "https://localhost:8080/",
          "height": 417
        },
        "id": "JLk_e2nIj91l",
        "outputId": "56098037-008b-48c5-ef6b-74278b34009f"
      },
      "outputs": [
        {
          "data": {
            "text/html": [
              "<div>\n",
              "<style scoped>\n",
              "    .dataframe tbody tr th:only-of-type {\n",
              "        vertical-align: middle;\n",
              "    }\n",
              "\n",
              "    .dataframe tbody tr th {\n",
              "        vertical-align: top;\n",
              "    }\n",
              "\n",
              "    .dataframe thead th {\n",
              "        text-align: right;\n",
              "    }\n",
              "</style>\n",
              "<table border=\"1\" class=\"dataframe\">\n",
              "  <thead>\n",
              "    <tr style=\"text-align: right;\">\n",
              "      <th></th>\n",
              "      <th>ZIP</th>\n",
              "      <th>pref_id</th>\n",
              "      <th>Pref</th>\n",
              "      <th>pref_name_en</th>\n",
              "      <th>City</th>\n",
              "      <th>Town</th>\n",
              "    </tr>\n",
              "  </thead>\n",
              "  <tbody>\n",
              "    <tr>\n",
              "      <th>0</th>\n",
              "      <td>0600000</td>\n",
              "      <td>645</td>\n",
              "      <td>北海道</td>\n",
              "      <td>Hokkaido</td>\n",
              "      <td>札幌市中央区</td>\n",
              "      <td></td>\n",
              "    </tr>\n",
              "    <tr>\n",
              "      <th>1</th>\n",
              "      <td>0640941</td>\n",
              "      <td>645</td>\n",
              "      <td>北海道</td>\n",
              "      <td>Hokkaido</td>\n",
              "      <td>札幌市中央区</td>\n",
              "      <td>旭ケ丘</td>\n",
              "    </tr>\n",
              "    <tr>\n",
              "      <th>2</th>\n",
              "      <td>0600041</td>\n",
              "      <td>645</td>\n",
              "      <td>北海道</td>\n",
              "      <td>Hokkaido</td>\n",
              "      <td>札幌市中央区</td>\n",
              "      <td>大通東</td>\n",
              "    </tr>\n",
              "    <tr>\n",
              "      <th>3</th>\n",
              "      <td>0600042</td>\n",
              "      <td>645</td>\n",
              "      <td>北海道</td>\n",
              "      <td>Hokkaido</td>\n",
              "      <td>札幌市中央区</td>\n",
              "      <td>大通西</td>\n",
              "    </tr>\n",
              "    <tr>\n",
              "      <th>4</th>\n",
              "      <td>0640820</td>\n",
              "      <td>645</td>\n",
              "      <td>北海道</td>\n",
              "      <td>Hokkaido</td>\n",
              "      <td>札幌市中央区</td>\n",
              "      <td>大通西</td>\n",
              "    </tr>\n",
              "    <tr>\n",
              "      <th>...</th>\n",
              "      <td>...</td>\n",
              "      <td>...</td>\n",
              "      <td>...</td>\n",
              "      <td>...</td>\n",
              "      <td>...</td>\n",
              "      <td>...</td>\n",
              "    </tr>\n",
              "    <tr>\n",
              "      <th>124534</th>\n",
              "      <td>9071433</td>\n",
              "      <td>691</td>\n",
              "      <td>沖縄県</td>\n",
              "      <td>Okinawa</td>\n",
              "      <td>八重山郡竹富町</td>\n",
              "      <td>南風見仲</td>\n",
              "    </tr>\n",
              "    <tr>\n",
              "      <th>124535</th>\n",
              "      <td>9071751</td>\n",
              "      <td>691</td>\n",
              "      <td>沖縄県</td>\n",
              "      <td>Okinawa</td>\n",
              "      <td>八重山郡竹富町</td>\n",
              "      <td>波照間</td>\n",
              "    </tr>\n",
              "    <tr>\n",
              "      <th>124536</th>\n",
              "      <td>9071544</td>\n",
              "      <td>691</td>\n",
              "      <td>沖縄県</td>\n",
              "      <td>Okinawa</td>\n",
              "      <td>八重山郡竹富町</td>\n",
              "      <td>鳩間</td>\n",
              "    </tr>\n",
              "    <tr>\n",
              "      <th>124537</th>\n",
              "      <td>9071800</td>\n",
              "      <td>691</td>\n",
              "      <td>沖縄県</td>\n",
              "      <td>Okinawa</td>\n",
              "      <td>八重山郡与那国町</td>\n",
              "      <td></td>\n",
              "    </tr>\n",
              "    <tr>\n",
              "      <th>124538</th>\n",
              "      <td>9071801</td>\n",
              "      <td>691</td>\n",
              "      <td>沖縄県</td>\n",
              "      <td>Okinawa</td>\n",
              "      <td>八重山郡与那国町</td>\n",
              "      <td>与那国</td>\n",
              "    </tr>\n",
              "  </tbody>\n",
              "</table>\n",
              "<p>124539 rows × 6 columns</p>\n",
              "</div>"
            ],
            "text/plain": [
              "            ZIP  pref_id Pref pref_name_en      City  Town\n",
              "0       0600000      645  北海道     Hokkaido    札幌市中央区      \n",
              "1       0640941      645  北海道     Hokkaido    札幌市中央区   旭ケ丘\n",
              "2       0600041      645  北海道     Hokkaido    札幌市中央区   大通東\n",
              "3       0600042      645  北海道     Hokkaido    札幌市中央区   大通西\n",
              "4       0640820      645  北海道     Hokkaido    札幌市中央区   大通西\n",
              "...         ...      ...  ...          ...       ...   ...\n",
              "124534  9071433      691  沖縄県      Okinawa   八重山郡竹富町  南風見仲\n",
              "124535  9071751      691  沖縄県      Okinawa   八重山郡竹富町   波照間\n",
              "124536  9071544      691  沖縄県      Okinawa   八重山郡竹富町    鳩間\n",
              "124537  9071800      691  沖縄県      Okinawa  八重山郡与那国町      \n",
              "124538  9071801      691  沖縄県      Okinawa  八重山郡与那国町   与那国\n",
              "\n",
              "[124539 rows x 6 columns]"
            ]
          },
          "execution_count": 47,
          "metadata": {},
          "output_type": "execute_result"
        }
      ],
      "source": [
        "df"
      ]
    },
    {
      "cell_type": "markdown",
      "metadata": {
        "id": "1am5K_v7ku_6"
      },
      "source": [
        "### Remove rows with duplicated ZIP and city"
      ]
    },
    {
      "cell_type": "code",
      "execution_count": null,
      "metadata": {
        "colab": {
          "base_uri": "https://localhost:8080/"
        },
        "id": "-D24YA9YI8pI",
        "outputId": "84fd4a0f-4d42-419f-b702-895569cd7e58"
      },
      "outputs": [
        {
          "data": {
            "text/plain": [
              "5683"
            ]
          },
          "execution_count": 48,
          "metadata": {},
          "output_type": "execute_result"
        }
      ],
      "source": [
        "df.loc[dupZIP].shape[0]"
      ]
    },
    {
      "cell_type": "code",
      "execution_count": null,
      "metadata": {
        "colab": {
          "base_uri": "https://localhost:8080/"
        },
        "id": "s8eH4_HPFS1d",
        "outputId": "2c9123df-3889-4187-9b1c-2669b6266128"
      },
      "outputs": [
        {
          "data": {
            "text/plain": [
              "5530"
            ]
          },
          "execution_count": 49,
          "metadata": {},
          "output_type": "execute_result"
        }
      ],
      "source": [
        "# same city but it includes rows with same city and different zip\n",
        "df.loc[dupZIP].duplicated(subset=['City'], keep=False).sum()"
      ]
    },
    {
      "cell_type": "code",
      "execution_count": null,
      "metadata": {
        "colab": {
          "base_uri": "https://localhost:8080/"
        },
        "id": "0UuNXhQrlHQa",
        "outputId": "d6c73903-c9e9-491c-d150-d8358c5739e0"
      },
      "outputs": [
        {
          "data": {
            "text/plain": [
              "5385"
            ]
          },
          "execution_count": 50,
          "metadata": {},
          "output_type": "execute_result"
        }
      ],
      "source": [
        "# same city and same zip\n",
        "df.loc[dupZIP].duplicated(subset=['ZIP', 'City'], keep=False).sum()"
      ]
    },
    {
      "cell_type": "code",
      "execution_count": null,
      "metadata": {
        "colab": {
          "base_uri": "https://localhost:8080/"
        },
        "id": "6jjJ3AfHCgT1",
        "outputId": "db635fcc-79e8-468c-b277-0caad66fec33"
      },
      "outputs": [
        {
          "data": {
            "text/plain": [
              "5385"
            ]
          },
          "execution_count": 51,
          "metadata": {},
          "output_type": "execute_result"
        }
      ],
      "source": [
        "df.loc[dupZIP].duplicated(subset=['ZIP', 'City', 'Town'], keep=False).sum()"
      ]
    },
    {
      "cell_type": "code",
      "execution_count": null,
      "metadata": {
        "id": "1QdB4HljN4G1"
      },
      "outputs": [],
      "source": [
        "# drop rows with duplicated zip and city (this removes rows with dup zip / city and different town)\n",
        "DroppedDupZipCity = df.drop_duplicates(subset=['ZIP', 'City'], keep='first')"
      ]
    },
    {
      "cell_type": "code",
      "execution_count": null,
      "metadata": {
        "colab": {
          "base_uri": "https://localhost:8080/",
          "height": 417
        },
        "id": "Ouu9So6NOP7p",
        "outputId": "5d7a6a31-724b-4581-c7d1-f32e697761cf"
      },
      "outputs": [
        {
          "data": {
            "text/html": [
              "<div>\n",
              "<style scoped>\n",
              "    .dataframe tbody tr th:only-of-type {\n",
              "        vertical-align: middle;\n",
              "    }\n",
              "\n",
              "    .dataframe tbody tr th {\n",
              "        vertical-align: top;\n",
              "    }\n",
              "\n",
              "    .dataframe thead th {\n",
              "        text-align: right;\n",
              "    }\n",
              "</style>\n",
              "<table border=\"1\" class=\"dataframe\">\n",
              "  <thead>\n",
              "    <tr style=\"text-align: right;\">\n",
              "      <th></th>\n",
              "      <th>ZIP</th>\n",
              "      <th>pref_id</th>\n",
              "      <th>Pref</th>\n",
              "      <th>pref_name_en</th>\n",
              "      <th>City</th>\n",
              "      <th>Town</th>\n",
              "    </tr>\n",
              "  </thead>\n",
              "  <tbody>\n",
              "    <tr>\n",
              "      <th>0</th>\n",
              "      <td>0600000</td>\n",
              "      <td>645</td>\n",
              "      <td>北海道</td>\n",
              "      <td>Hokkaido</td>\n",
              "      <td>札幌市中央区</td>\n",
              "      <td></td>\n",
              "    </tr>\n",
              "    <tr>\n",
              "      <th>1</th>\n",
              "      <td>0640941</td>\n",
              "      <td>645</td>\n",
              "      <td>北海道</td>\n",
              "      <td>Hokkaido</td>\n",
              "      <td>札幌市中央区</td>\n",
              "      <td>旭ケ丘</td>\n",
              "    </tr>\n",
              "    <tr>\n",
              "      <th>2</th>\n",
              "      <td>0600041</td>\n",
              "      <td>645</td>\n",
              "      <td>北海道</td>\n",
              "      <td>Hokkaido</td>\n",
              "      <td>札幌市中央区</td>\n",
              "      <td>大通東</td>\n",
              "    </tr>\n",
              "    <tr>\n",
              "      <th>3</th>\n",
              "      <td>0600042</td>\n",
              "      <td>645</td>\n",
              "      <td>北海道</td>\n",
              "      <td>Hokkaido</td>\n",
              "      <td>札幌市中央区</td>\n",
              "      <td>大通西</td>\n",
              "    </tr>\n",
              "    <tr>\n",
              "      <th>4</th>\n",
              "      <td>0640820</td>\n",
              "      <td>645</td>\n",
              "      <td>北海道</td>\n",
              "      <td>Hokkaido</td>\n",
              "      <td>札幌市中央区</td>\n",
              "      <td>大通西</td>\n",
              "    </tr>\n",
              "    <tr>\n",
              "      <th>...</th>\n",
              "      <td>...</td>\n",
              "      <td>...</td>\n",
              "      <td>...</td>\n",
              "      <td>...</td>\n",
              "      <td>...</td>\n",
              "      <td>...</td>\n",
              "    </tr>\n",
              "    <tr>\n",
              "      <th>124534</th>\n",
              "      <td>9071433</td>\n",
              "      <td>691</td>\n",
              "      <td>沖縄県</td>\n",
              "      <td>Okinawa</td>\n",
              "      <td>八重山郡竹富町</td>\n",
              "      <td>南風見仲</td>\n",
              "    </tr>\n",
              "    <tr>\n",
              "      <th>124535</th>\n",
              "      <td>9071751</td>\n",
              "      <td>691</td>\n",
              "      <td>沖縄県</td>\n",
              "      <td>Okinawa</td>\n",
              "      <td>八重山郡竹富町</td>\n",
              "      <td>波照間</td>\n",
              "    </tr>\n",
              "    <tr>\n",
              "      <th>124536</th>\n",
              "      <td>9071544</td>\n",
              "      <td>691</td>\n",
              "      <td>沖縄県</td>\n",
              "      <td>Okinawa</td>\n",
              "      <td>八重山郡竹富町</td>\n",
              "      <td>鳩間</td>\n",
              "    </tr>\n",
              "    <tr>\n",
              "      <th>124537</th>\n",
              "      <td>9071800</td>\n",
              "      <td>691</td>\n",
              "      <td>沖縄県</td>\n",
              "      <td>Okinawa</td>\n",
              "      <td>八重山郡与那国町</td>\n",
              "      <td></td>\n",
              "    </tr>\n",
              "    <tr>\n",
              "      <th>124538</th>\n",
              "      <td>9071801</td>\n",
              "      <td>691</td>\n",
              "      <td>沖縄県</td>\n",
              "      <td>Okinawa</td>\n",
              "      <td>八重山郡与那国町</td>\n",
              "      <td>与那国</td>\n",
              "    </tr>\n",
              "  </tbody>\n",
              "</table>\n",
              "<p>120561 rows × 6 columns</p>\n",
              "</div>"
            ],
            "text/plain": [
              "            ZIP  pref_id Pref pref_name_en      City  Town\n",
              "0       0600000      645  北海道     Hokkaido    札幌市中央区      \n",
              "1       0640941      645  北海道     Hokkaido    札幌市中央区   旭ケ丘\n",
              "2       0600041      645  北海道     Hokkaido    札幌市中央区   大通東\n",
              "3       0600042      645  北海道     Hokkaido    札幌市中央区   大通西\n",
              "4       0640820      645  北海道     Hokkaido    札幌市中央区   大通西\n",
              "...         ...      ...  ...          ...       ...   ...\n",
              "124534  9071433      691  沖縄県      Okinawa   八重山郡竹富町  南風見仲\n",
              "124535  9071751      691  沖縄県      Okinawa   八重山郡竹富町   波照間\n",
              "124536  9071544      691  沖縄県      Okinawa   八重山郡竹富町    鳩間\n",
              "124537  9071800      691  沖縄県      Okinawa  八重山郡与那国町      \n",
              "124538  9071801      691  沖縄県      Okinawa  八重山郡与那国町   与那国\n",
              "\n",
              "[120561 rows x 6 columns]"
            ]
          },
          "execution_count": 53,
          "metadata": {},
          "output_type": "execute_result"
        }
      ],
      "source": [
        "DroppedDupZipCity"
      ]
    },
    {
      "cell_type": "code",
      "execution_count": null,
      "metadata": {
        "colab": {
          "base_uri": "https://localhost:8080/",
          "height": 80
        },
        "id": "WdPqr1gSOrXs",
        "outputId": "ef7f656d-fc71-49b6-f075-abbd409f3cfb"
      },
      "outputs": [
        {
          "data": {
            "text/html": [
              "<div>\n",
              "<style scoped>\n",
              "    .dataframe tbody tr th:only-of-type {\n",
              "        vertical-align: middle;\n",
              "    }\n",
              "\n",
              "    .dataframe tbody tr th {\n",
              "        vertical-align: top;\n",
              "    }\n",
              "\n",
              "    .dataframe thead th {\n",
              "        text-align: right;\n",
              "    }\n",
              "</style>\n",
              "<table border=\"1\" class=\"dataframe\">\n",
              "  <thead>\n",
              "    <tr style=\"text-align: right;\">\n",
              "      <th></th>\n",
              "      <th>ZIP</th>\n",
              "      <th>pref_id</th>\n",
              "      <th>Pref</th>\n",
              "      <th>pref_name_en</th>\n",
              "      <th>City</th>\n",
              "      <th>Town</th>\n",
              "    </tr>\n",
              "  </thead>\n",
              "  <tbody>\n",
              "    <tr>\n",
              "      <th>72824</th>\n",
              "      <td>4520961</td>\n",
              "      <td>667</td>\n",
              "      <td>愛知県</td>\n",
              "      <td>Aichi</td>\n",
              "      <td>清須市</td>\n",
              "      <td></td>\n",
              "    </tr>\n",
              "  </tbody>\n",
              "</table>\n",
              "</div>"
            ],
            "text/plain": [
              "           ZIP  pref_id Pref pref_name_en City Town\n",
              "72824  4520961      667  愛知県        Aichi  清須市     "
            ]
          },
          "execution_count": 54,
          "metadata": {},
          "output_type": "execute_result"
        }
      ],
      "source": [
        "DroppedDupZipCity.loc[DroppedDupZipCity['ZIP'] == '4520961']"
      ]
    },
    {
      "cell_type": "code",
      "execution_count": null,
      "metadata": {
        "colab": {
          "base_uri": "https://localhost:8080/",
          "height": 110
        },
        "id": "CiVLQAQ4PYEd",
        "outputId": "62c38ae2-a329-4198-e50d-6af3e7cbef39"
      },
      "outputs": [
        {
          "data": {
            "text/html": [
              "<div>\n",
              "<style scoped>\n",
              "    .dataframe tbody tr th:only-of-type {\n",
              "        vertical-align: middle;\n",
              "    }\n",
              "\n",
              "    .dataframe tbody tr th {\n",
              "        vertical-align: top;\n",
              "    }\n",
              "\n",
              "    .dataframe thead th {\n",
              "        text-align: right;\n",
              "    }\n",
              "</style>\n",
              "<table border=\"1\" class=\"dataframe\">\n",
              "  <thead>\n",
              "    <tr style=\"text-align: right;\">\n",
              "      <th></th>\n",
              "      <th>ZIP</th>\n",
              "      <th>pref_id</th>\n",
              "      <th>Pref</th>\n",
              "      <th>pref_name_en</th>\n",
              "      <th>City</th>\n",
              "      <th>Town</th>\n",
              "    </tr>\n",
              "  </thead>\n",
              "  <tbody>\n",
              "    <tr>\n",
              "      <th>661</th>\n",
              "      <td>0040000</td>\n",
              "      <td>645</td>\n",
              "      <td>北海道</td>\n",
              "      <td>Hokkaido</td>\n",
              "      <td>札幌市厚別区</td>\n",
              "      <td></td>\n",
              "    </tr>\n",
              "    <tr>\n",
              "      <th>772</th>\n",
              "      <td>0040000</td>\n",
              "      <td>645</td>\n",
              "      <td>北海道</td>\n",
              "      <td>Hokkaido</td>\n",
              "      <td>札幌市清田区</td>\n",
              "      <td></td>\n",
              "    </tr>\n",
              "  </tbody>\n",
              "</table>\n",
              "</div>"
            ],
            "text/plain": [
              "         ZIP  pref_id Pref pref_name_en    City Town\n",
              "661  0040000      645  北海道     Hokkaido  札幌市厚別区     \n",
              "772  0040000      645  北海道     Hokkaido  札幌市清田区     "
            ]
          },
          "execution_count": 55,
          "metadata": {},
          "output_type": "execute_result"
        }
      ],
      "source": [
        "DroppedDupZipCity.loc[DroppedDupZipCity['ZIP'] == '0040000']"
      ]
    },
    {
      "cell_type": "markdown",
      "metadata": {
        "id": "ohy7kjS6QcZQ"
      },
      "source": [
        "### Remove rows with duplicated ZIP and different city except for first one"
      ]
    },
    {
      "cell_type": "markdown",
      "metadata": {
        "id": "RMDa1WHJRS0P"
      },
      "source": [
        "#### Check the number of rows for the ZIPs"
      ]
    },
    {
      "cell_type": "code",
      "execution_count": null,
      "metadata": {
        "id": "6QLJt6hUPlnv"
      },
      "outputs": [],
      "source": [
        "dupZipButDiffCity = DroppedDupZipCity[DroppedDupZipCity.duplicated(subset=['ZIP'], keep=False)]"
      ]
    },
    {
      "cell_type": "code",
      "execution_count": null,
      "metadata": {
        "id": "v3m9seAMSZ4-"
      },
      "outputs": [],
      "source": [
        "dupZipButDiffCity = dupZipButDiffCity.sort_values(by=['ZIP'])"
      ]
    },
    {
      "cell_type": "code",
      "execution_count": null,
      "metadata": {
        "colab": {
          "base_uri": "https://localhost:8080/",
          "height": 417
        },
        "id": "qYjUOLjgTOkr",
        "outputId": "e7dca34c-22b5-4423-83d1-c8e66a1e381d"
      },
      "outputs": [
        {
          "data": {
            "text/html": [
              "<div>\n",
              "<style scoped>\n",
              "    .dataframe tbody tr th:only-of-type {\n",
              "        vertical-align: middle;\n",
              "    }\n",
              "\n",
              "    .dataframe tbody tr th {\n",
              "        vertical-align: top;\n",
              "    }\n",
              "\n",
              "    .dataframe thead th {\n",
              "        text-align: right;\n",
              "    }\n",
              "</style>\n",
              "<table border=\"1\" class=\"dataframe\">\n",
              "  <thead>\n",
              "    <tr style=\"text-align: right;\">\n",
              "      <th></th>\n",
              "      <th>ZIP</th>\n",
              "      <th>pref_id</th>\n",
              "      <th>Pref</th>\n",
              "      <th>pref_name_en</th>\n",
              "      <th>City</th>\n",
              "      <th>Town</th>\n",
              "    </tr>\n",
              "  </thead>\n",
              "  <tbody>\n",
              "    <tr>\n",
              "      <th>661</th>\n",
              "      <td>0040000</td>\n",
              "      <td>645</td>\n",
              "      <td>北海道</td>\n",
              "      <td>Hokkaido</td>\n",
              "      <td>札幌市厚別区</td>\n",
              "      <td></td>\n",
              "    </tr>\n",
              "    <tr>\n",
              "      <th>772</th>\n",
              "      <td>0040000</td>\n",
              "      <td>645</td>\n",
              "      <td>北海道</td>\n",
              "      <td>Hokkaido</td>\n",
              "      <td>札幌市清田区</td>\n",
              "      <td></td>\n",
              "    </tr>\n",
              "    <tr>\n",
              "      <th>9067</th>\n",
              "      <td>0350000</td>\n",
              "      <td>646</td>\n",
              "      <td>青森県</td>\n",
              "      <td>Aomori</td>\n",
              "      <td>むつ市</td>\n",
              "      <td></td>\n",
              "    </tr>\n",
              "    <tr>\n",
              "      <th>10451</th>\n",
              "      <td>0350000</td>\n",
              "      <td>646</td>\n",
              "      <td>青森県</td>\n",
              "      <td>Aomori</td>\n",
              "      <td>下北郡東通村</td>\n",
              "      <td></td>\n",
              "    </tr>\n",
              "    <tr>\n",
              "      <th>10473</th>\n",
              "      <td>0390100</td>\n",
              "      <td>646</td>\n",
              "      <td>青森県</td>\n",
              "      <td>Aomori</td>\n",
              "      <td>三戸郡三戸町</td>\n",
              "      <td></td>\n",
              "    </tr>\n",
              "    <tr>\n",
              "      <th>...</th>\n",
              "      <td>...</td>\n",
              "      <td>...</td>\n",
              "      <td>...</td>\n",
              "      <td>...</td>\n",
              "      <td>...</td>\n",
              "      <td>...</td>\n",
              "    </tr>\n",
              "    <tr>\n",
              "      <th>13462</th>\n",
              "      <td>9850000</td>\n",
              "      <td>648</td>\n",
              "      <td>宮城県</td>\n",
              "      <td>Miyagi</td>\n",
              "      <td>塩竈市</td>\n",
              "      <td></td>\n",
              "    </tr>\n",
              "    <tr>\n",
              "      <th>15687</th>\n",
              "      <td>9850000</td>\n",
              "      <td>648</td>\n",
              "      <td>宮城県</td>\n",
              "      <td>Miyagi</td>\n",
              "      <td>宮城郡七ヶ浜町</td>\n",
              "      <td></td>\n",
              "    </tr>\n",
              "    <tr>\n",
              "      <th>14035</th>\n",
              "      <td>9850000</td>\n",
              "      <td>648</td>\n",
              "      <td>宮城県</td>\n",
              "      <td>Miyagi</td>\n",
              "      <td>多賀城市</td>\n",
              "      <td></td>\n",
              "    </tr>\n",
              "    <tr>\n",
              "      <th>19717</th>\n",
              "      <td>9994554</td>\n",
              "      <td>650</td>\n",
              "      <td>山形県</td>\n",
              "      <td>Yamagata</td>\n",
              "      <td>尾花沢市</td>\n",
              "      <td></td>\n",
              "    </tr>\n",
              "    <tr>\n",
              "      <th>19942</th>\n",
              "      <td>9994554</td>\n",
              "      <td>650</td>\n",
              "      <td>山形県</td>\n",
              "      <td>Yamagata</td>\n",
              "      <td>北村山郡大石田町</td>\n",
              "      <td></td>\n",
              "    </tr>\n",
              "  </tbody>\n",
              "</table>\n",
              "<p>298 rows × 6 columns</p>\n",
              "</div>"
            ],
            "text/plain": [
              "           ZIP  pref_id Pref pref_name_en      City Town\n",
              "661    0040000      645  北海道     Hokkaido    札幌市厚別区     \n",
              "772    0040000      645  北海道     Hokkaido    札幌市清田区     \n",
              "9067   0350000      646  青森県       Aomori       むつ市     \n",
              "10451  0350000      646  青森県       Aomori    下北郡東通村     \n",
              "10473  0390100      646  青森県       Aomori    三戸郡三戸町     \n",
              "...        ...      ...  ...          ...       ...  ...\n",
              "13462  9850000      648  宮城県       Miyagi       塩竈市     \n",
              "15687  9850000      648  宮城県       Miyagi   宮城郡七ヶ浜町     \n",
              "14035  9850000      648  宮城県       Miyagi      多賀城市     \n",
              "19717  9994554      650  山形県     Yamagata      尾花沢市     \n",
              "19942  9994554      650  山形県     Yamagata  北村山郡大石田町     \n",
              "\n",
              "[298 rows x 6 columns]"
            ]
          },
          "execution_count": 59,
          "metadata": {},
          "output_type": "execute_result"
        }
      ],
      "source": [
        "dupZipButDiffCity"
      ]
    },
    {
      "cell_type": "code",
      "execution_count": null,
      "metadata": {
        "id": "5-KJMYf8Rhsl"
      },
      "outputs": [],
      "source": [
        "dupZipButDiffCity.to_csv('./drive/My Drive/Colab Notebooks/01_dataset/zip-code/duplicated-zipcodes-with-different-unique-city.csv')"
      ]
    },
    {
      "cell_type": "markdown",
      "metadata": {
        "id": "5xmSxzuESjKI"
      },
      "source": [
        "#### Remove the rows except for the first ones"
      ]
    },
    {
      "cell_type": "code",
      "execution_count": null,
      "metadata": {
        "colab": {
          "base_uri": "https://localhost:8080/",
          "height": 417
        },
        "id": "lG97gb5gSeYv",
        "outputId": "e0471246-327a-4f9a-ac2b-4b7cfd8ee5fb"
      },
      "outputs": [
        {
          "data": {
            "text/html": [
              "<div>\n",
              "<style scoped>\n",
              "    .dataframe tbody tr th:only-of-type {\n",
              "        vertical-align: middle;\n",
              "    }\n",
              "\n",
              "    .dataframe tbody tr th {\n",
              "        vertical-align: top;\n",
              "    }\n",
              "\n",
              "    .dataframe thead th {\n",
              "        text-align: right;\n",
              "    }\n",
              "</style>\n",
              "<table border=\"1\" class=\"dataframe\">\n",
              "  <thead>\n",
              "    <tr style=\"text-align: right;\">\n",
              "      <th></th>\n",
              "      <th>ZIP</th>\n",
              "      <th>pref_id</th>\n",
              "      <th>Pref</th>\n",
              "      <th>pref_name_en</th>\n",
              "      <th>City</th>\n",
              "      <th>Town</th>\n",
              "    </tr>\n",
              "  </thead>\n",
              "  <tbody>\n",
              "    <tr>\n",
              "      <th>0</th>\n",
              "      <td>0600000</td>\n",
              "      <td>645</td>\n",
              "      <td>北海道</td>\n",
              "      <td>Hokkaido</td>\n",
              "      <td>札幌市中央区</td>\n",
              "      <td></td>\n",
              "    </tr>\n",
              "    <tr>\n",
              "      <th>1</th>\n",
              "      <td>0640941</td>\n",
              "      <td>645</td>\n",
              "      <td>北海道</td>\n",
              "      <td>Hokkaido</td>\n",
              "      <td>札幌市中央区</td>\n",
              "      <td>旭ケ丘</td>\n",
              "    </tr>\n",
              "    <tr>\n",
              "      <th>2</th>\n",
              "      <td>0600041</td>\n",
              "      <td>645</td>\n",
              "      <td>北海道</td>\n",
              "      <td>Hokkaido</td>\n",
              "      <td>札幌市中央区</td>\n",
              "      <td>大通東</td>\n",
              "    </tr>\n",
              "    <tr>\n",
              "      <th>3</th>\n",
              "      <td>0600042</td>\n",
              "      <td>645</td>\n",
              "      <td>北海道</td>\n",
              "      <td>Hokkaido</td>\n",
              "      <td>札幌市中央区</td>\n",
              "      <td>大通西</td>\n",
              "    </tr>\n",
              "    <tr>\n",
              "      <th>4</th>\n",
              "      <td>0640820</td>\n",
              "      <td>645</td>\n",
              "      <td>北海道</td>\n",
              "      <td>Hokkaido</td>\n",
              "      <td>札幌市中央区</td>\n",
              "      <td>大通西</td>\n",
              "    </tr>\n",
              "    <tr>\n",
              "      <th>...</th>\n",
              "      <td>...</td>\n",
              "      <td>...</td>\n",
              "      <td>...</td>\n",
              "      <td>...</td>\n",
              "      <td>...</td>\n",
              "      <td>...</td>\n",
              "    </tr>\n",
              "    <tr>\n",
              "      <th>124534</th>\n",
              "      <td>9071433</td>\n",
              "      <td>691</td>\n",
              "      <td>沖縄県</td>\n",
              "      <td>Okinawa</td>\n",
              "      <td>八重山郡竹富町</td>\n",
              "      <td>南風見仲</td>\n",
              "    </tr>\n",
              "    <tr>\n",
              "      <th>124535</th>\n",
              "      <td>9071751</td>\n",
              "      <td>691</td>\n",
              "      <td>沖縄県</td>\n",
              "      <td>Okinawa</td>\n",
              "      <td>八重山郡竹富町</td>\n",
              "      <td>波照間</td>\n",
              "    </tr>\n",
              "    <tr>\n",
              "      <th>124536</th>\n",
              "      <td>9071544</td>\n",
              "      <td>691</td>\n",
              "      <td>沖縄県</td>\n",
              "      <td>Okinawa</td>\n",
              "      <td>八重山郡竹富町</td>\n",
              "      <td>鳩間</td>\n",
              "    </tr>\n",
              "    <tr>\n",
              "      <th>124537</th>\n",
              "      <td>9071800</td>\n",
              "      <td>691</td>\n",
              "      <td>沖縄県</td>\n",
              "      <td>Okinawa</td>\n",
              "      <td>八重山郡与那国町</td>\n",
              "      <td></td>\n",
              "    </tr>\n",
              "    <tr>\n",
              "      <th>124538</th>\n",
              "      <td>9071801</td>\n",
              "      <td>691</td>\n",
              "      <td>沖縄県</td>\n",
              "      <td>Okinawa</td>\n",
              "      <td>八重山郡与那国町</td>\n",
              "      <td>与那国</td>\n",
              "    </tr>\n",
              "  </tbody>\n",
              "</table>\n",
              "<p>120561 rows × 6 columns</p>\n",
              "</div>"
            ],
            "text/plain": [
              "            ZIP  pref_id Pref pref_name_en      City  Town\n",
              "0       0600000      645  北海道     Hokkaido    札幌市中央区      \n",
              "1       0640941      645  北海道     Hokkaido    札幌市中央区   旭ケ丘\n",
              "2       0600041      645  北海道     Hokkaido    札幌市中央区   大通東\n",
              "3       0600042      645  北海道     Hokkaido    札幌市中央区   大通西\n",
              "4       0640820      645  北海道     Hokkaido    札幌市中央区   大通西\n",
              "...         ...      ...  ...          ...       ...   ...\n",
              "124534  9071433      691  沖縄県      Okinawa   八重山郡竹富町  南風見仲\n",
              "124535  9071751      691  沖縄県      Okinawa   八重山郡竹富町   波照間\n",
              "124536  9071544      691  沖縄県      Okinawa   八重山郡竹富町    鳩間\n",
              "124537  9071800      691  沖縄県      Okinawa  八重山郡与那国町      \n",
              "124538  9071801      691  沖縄県      Okinawa  八重山郡与那国町   与那国\n",
              "\n",
              "[120561 rows x 6 columns]"
            ]
          },
          "execution_count": 61,
          "metadata": {},
          "output_type": "execute_result"
        }
      ],
      "source": [
        "DroppedDupZipCity"
      ]
    },
    {
      "cell_type": "code",
      "execution_count": null,
      "metadata": {
        "id": "IWBt7xmRVuaI"
      },
      "outputs": [],
      "source": [
        "dfComplete = DroppedDupZipCity.drop_duplicates(subset=['ZIP'], keep='first')"
      ]
    },
    {
      "cell_type": "code",
      "execution_count": null,
      "metadata": {
        "colab": {
          "base_uri": "https://localhost:8080/",
          "height": 417
        },
        "id": "923j31lUWbI5",
        "outputId": "3260f6b8-fc1d-4dcb-bd53-75ad206cf49c"
      },
      "outputs": [
        {
          "data": {
            "text/html": [
              "<div>\n",
              "<style scoped>\n",
              "    .dataframe tbody tr th:only-of-type {\n",
              "        vertical-align: middle;\n",
              "    }\n",
              "\n",
              "    .dataframe tbody tr th {\n",
              "        vertical-align: top;\n",
              "    }\n",
              "\n",
              "    .dataframe thead th {\n",
              "        text-align: right;\n",
              "    }\n",
              "</style>\n",
              "<table border=\"1\" class=\"dataframe\">\n",
              "  <thead>\n",
              "    <tr style=\"text-align: right;\">\n",
              "      <th></th>\n",
              "      <th>ZIP</th>\n",
              "      <th>pref_id</th>\n",
              "      <th>Pref</th>\n",
              "      <th>pref_name_en</th>\n",
              "      <th>City</th>\n",
              "      <th>Town</th>\n",
              "    </tr>\n",
              "  </thead>\n",
              "  <tbody>\n",
              "    <tr>\n",
              "      <th>0</th>\n",
              "      <td>0600000</td>\n",
              "      <td>645</td>\n",
              "      <td>北海道</td>\n",
              "      <td>Hokkaido</td>\n",
              "      <td>札幌市中央区</td>\n",
              "      <td></td>\n",
              "    </tr>\n",
              "    <tr>\n",
              "      <th>1</th>\n",
              "      <td>0640941</td>\n",
              "      <td>645</td>\n",
              "      <td>北海道</td>\n",
              "      <td>Hokkaido</td>\n",
              "      <td>札幌市中央区</td>\n",
              "      <td>旭ケ丘</td>\n",
              "    </tr>\n",
              "    <tr>\n",
              "      <th>2</th>\n",
              "      <td>0600041</td>\n",
              "      <td>645</td>\n",
              "      <td>北海道</td>\n",
              "      <td>Hokkaido</td>\n",
              "      <td>札幌市中央区</td>\n",
              "      <td>大通東</td>\n",
              "    </tr>\n",
              "    <tr>\n",
              "      <th>3</th>\n",
              "      <td>0600042</td>\n",
              "      <td>645</td>\n",
              "      <td>北海道</td>\n",
              "      <td>Hokkaido</td>\n",
              "      <td>札幌市中央区</td>\n",
              "      <td>大通西</td>\n",
              "    </tr>\n",
              "    <tr>\n",
              "      <th>4</th>\n",
              "      <td>0640820</td>\n",
              "      <td>645</td>\n",
              "      <td>北海道</td>\n",
              "      <td>Hokkaido</td>\n",
              "      <td>札幌市中央区</td>\n",
              "      <td>大通西</td>\n",
              "    </tr>\n",
              "    <tr>\n",
              "      <th>...</th>\n",
              "      <td>...</td>\n",
              "      <td>...</td>\n",
              "      <td>...</td>\n",
              "      <td>...</td>\n",
              "      <td>...</td>\n",
              "      <td>...</td>\n",
              "    </tr>\n",
              "    <tr>\n",
              "      <th>124534</th>\n",
              "      <td>9071433</td>\n",
              "      <td>691</td>\n",
              "      <td>沖縄県</td>\n",
              "      <td>Okinawa</td>\n",
              "      <td>八重山郡竹富町</td>\n",
              "      <td>南風見仲</td>\n",
              "    </tr>\n",
              "    <tr>\n",
              "      <th>124535</th>\n",
              "      <td>9071751</td>\n",
              "      <td>691</td>\n",
              "      <td>沖縄県</td>\n",
              "      <td>Okinawa</td>\n",
              "      <td>八重山郡竹富町</td>\n",
              "      <td>波照間</td>\n",
              "    </tr>\n",
              "    <tr>\n",
              "      <th>124536</th>\n",
              "      <td>9071544</td>\n",
              "      <td>691</td>\n",
              "      <td>沖縄県</td>\n",
              "      <td>Okinawa</td>\n",
              "      <td>八重山郡竹富町</td>\n",
              "      <td>鳩間</td>\n",
              "    </tr>\n",
              "    <tr>\n",
              "      <th>124537</th>\n",
              "      <td>9071800</td>\n",
              "      <td>691</td>\n",
              "      <td>沖縄県</td>\n",
              "      <td>Okinawa</td>\n",
              "      <td>八重山郡与那国町</td>\n",
              "      <td></td>\n",
              "    </tr>\n",
              "    <tr>\n",
              "      <th>124538</th>\n",
              "      <td>9071801</td>\n",
              "      <td>691</td>\n",
              "      <td>沖縄県</td>\n",
              "      <td>Okinawa</td>\n",
              "      <td>八重山郡与那国町</td>\n",
              "      <td>与那国</td>\n",
              "    </tr>\n",
              "  </tbody>\n",
              "</table>\n",
              "<p>120399 rows × 6 columns</p>\n",
              "</div>"
            ],
            "text/plain": [
              "            ZIP  pref_id Pref pref_name_en      City  Town\n",
              "0       0600000      645  北海道     Hokkaido    札幌市中央区      \n",
              "1       0640941      645  北海道     Hokkaido    札幌市中央区   旭ケ丘\n",
              "2       0600041      645  北海道     Hokkaido    札幌市中央区   大通東\n",
              "3       0600042      645  北海道     Hokkaido    札幌市中央区   大通西\n",
              "4       0640820      645  北海道     Hokkaido    札幌市中央区   大通西\n",
              "...         ...      ...  ...          ...       ...   ...\n",
              "124534  9071433      691  沖縄県      Okinawa   八重山郡竹富町  南風見仲\n",
              "124535  9071751      691  沖縄県      Okinawa   八重山郡竹富町   波照間\n",
              "124536  9071544      691  沖縄県      Okinawa   八重山郡竹富町    鳩間\n",
              "124537  9071800      691  沖縄県      Okinawa  八重山郡与那国町      \n",
              "124538  9071801      691  沖縄県      Okinawa  八重山郡与那国町   与那国\n",
              "\n",
              "[120399 rows x 6 columns]"
            ]
          },
          "execution_count": 63,
          "metadata": {},
          "output_type": "execute_result"
        }
      ],
      "source": [
        "dfComplete"
      ]
    },
    {
      "cell_type": "code",
      "execution_count": null,
      "metadata": {
        "colab": {
          "base_uri": "https://localhost:8080/"
        },
        "id": "JsmQUbjfV8lE",
        "outputId": "1ffce03a-a58e-4f8b-bea6-3006c8b80143"
      },
      "outputs": [
        {
          "data": {
            "text/plain": [
              "162"
            ]
          },
          "execution_count": 64,
          "metadata": {},
          "output_type": "execute_result"
        }
      ],
      "source": [
        "# dropped rows with the dup zip but unique city\n",
        "120561-120399"
      ]
    },
    {
      "cell_type": "code",
      "execution_count": null,
      "metadata": {
        "colab": {
          "base_uri": "https://localhost:8080/",
          "height": 80
        },
        "id": "4vq4DOIhWjVc",
        "outputId": "3c51aa22-91a3-4b84-c480-9ceee91964d4"
      },
      "outputs": [
        {
          "data": {
            "text/html": [
              "<div>\n",
              "<style scoped>\n",
              "    .dataframe tbody tr th:only-of-type {\n",
              "        vertical-align: middle;\n",
              "    }\n",
              "\n",
              "    .dataframe tbody tr th {\n",
              "        vertical-align: top;\n",
              "    }\n",
              "\n",
              "    .dataframe thead th {\n",
              "        text-align: right;\n",
              "    }\n",
              "</style>\n",
              "<table border=\"1\" class=\"dataframe\">\n",
              "  <thead>\n",
              "    <tr style=\"text-align: right;\">\n",
              "      <th></th>\n",
              "      <th>ZIP</th>\n",
              "      <th>pref_id</th>\n",
              "      <th>Pref</th>\n",
              "      <th>pref_name_en</th>\n",
              "      <th>City</th>\n",
              "      <th>Town</th>\n",
              "    </tr>\n",
              "  </thead>\n",
              "  <tbody>\n",
              "    <tr>\n",
              "      <th>661</th>\n",
              "      <td>0040000</td>\n",
              "      <td>645</td>\n",
              "      <td>北海道</td>\n",
              "      <td>Hokkaido</td>\n",
              "      <td>札幌市厚別区</td>\n",
              "      <td></td>\n",
              "    </tr>\n",
              "  </tbody>\n",
              "</table>\n",
              "</div>"
            ],
            "text/plain": [
              "         ZIP  pref_id Pref pref_name_en    City Town\n",
              "661  0040000      645  北海道     Hokkaido  札幌市厚別区     "
            ]
          },
          "execution_count": 65,
          "metadata": {},
          "output_type": "execute_result"
        }
      ],
      "source": [
        "dfComplete.loc[dfComplete['ZIP'] == '0040000']"
      ]
    },
    {
      "cell_type": "code",
      "execution_count": null,
      "metadata": {
        "colab": {
          "base_uri": "https://localhost:8080/",
          "height": 49
        },
        "id": "s7kpl_wTWlBI",
        "outputId": "0dc1ea95-608c-4968-e9fb-83ea2b8cac88"
      },
      "outputs": [
        {
          "data": {
            "text/html": [
              "<div>\n",
              "<style scoped>\n",
              "    .dataframe tbody tr th:only-of-type {\n",
              "        vertical-align: middle;\n",
              "    }\n",
              "\n",
              "    .dataframe tbody tr th {\n",
              "        vertical-align: top;\n",
              "    }\n",
              "\n",
              "    .dataframe thead th {\n",
              "        text-align: right;\n",
              "    }\n",
              "</style>\n",
              "<table border=\"1\" class=\"dataframe\">\n",
              "  <thead>\n",
              "    <tr style=\"text-align: right;\">\n",
              "      <th></th>\n",
              "      <th>ZIP</th>\n",
              "      <th>pref_id</th>\n",
              "      <th>Pref</th>\n",
              "      <th>pref_name_en</th>\n",
              "      <th>City</th>\n",
              "      <th>Town</th>\n",
              "    </tr>\n",
              "  </thead>\n",
              "  <tbody>\n",
              "  </tbody>\n",
              "</table>\n",
              "</div>"
            ],
            "text/plain": [
              "Empty DataFrame\n",
              "Columns: [ZIP, pref_id, Pref, pref_name_en, City, Town]\n",
              "Index: []"
            ]
          },
          "execution_count": 67,
          "metadata": {},
          "output_type": "execute_result"
        }
      ],
      "source": [
        "dfComplete[dfComplete.duplicated(subset=['ZIP'], keep=False)]"
      ]
    },
    {
      "cell_type": "code",
      "execution_count": null,
      "metadata": {
        "colab": {
          "base_uri": "https://localhost:8080/"
        },
        "id": "4LhdiOpVW6UB",
        "outputId": "142aaded-1a68-46bb-b3ba-b4bc69cfdb0f"
      },
      "outputs": [
        {
          "data": {
            "text/plain": [
              "ZIP             0.0\n",
              "pref_id         0.0\n",
              "Pref            0.0\n",
              "pref_name_en    0.0\n",
              "City            0.0\n",
              "Town            0.0\n",
              "dtype: float64"
            ]
          },
          "execution_count": 69,
          "metadata": {},
          "output_type": "execute_result"
        }
      ],
      "source": [
        "dfComplete[dfComplete.duplicated(subset=['ZIP'], keep=False)].sum()"
      ]
    },
    {
      "cell_type": "markdown",
      "metadata": {
        "id": "Mp7MJn10kT6G"
      },
      "source": [
        "# Append some columns to format the data"
      ]
    },
    {
      "cell_type": "code",
      "execution_count": null,
      "metadata": {
        "colab": {
          "base_uri": "https://localhost:8080/"
        },
        "id": "-jOcIYj6kqnx",
        "outputId": "09117902-c86e-4da7-e441-2980b739c617"
      },
      "outputs": [
        {
          "name": "stderr",
          "output_type": "stream",
          "text": [
            "/usr/local/lib/python3.7/dist-packages/ipykernel_launcher.py:1: SettingWithCopyWarning: \n",
            "A value is trying to be set on a copy of a slice from a DataFrame.\n",
            "Try using .loc[row_indexer,col_indexer] = value instead\n",
            "\n",
            "See the caveats in the documentation: https://pandas.pydata.org/pandas-docs/stable/user_guide/indexing.html#returning-a-view-versus-a-copy\n",
            "  \"\"\"Entry point for launching an IPython kernel.\n"
          ]
        }
      ],
      "source": [
        "dfComplete['is_island'] = 0"
      ]
    },
    {
      "cell_type": "code",
      "execution_count": null,
      "metadata": {
        "colab": {
          "base_uri": "https://localhost:8080/"
        },
        "id": "NuUsy2guYcrX",
        "outputId": "1e073574-5e50-4a8d-d3eb-bd4cebb852a6"
      },
      "outputs": [
        {
          "name": "stderr",
          "output_type": "stream",
          "text": [
            "/usr/local/lib/python3.7/dist-packages/pandas/core/indexing.py:1596: SettingWithCopyWarning: \n",
            "A value is trying to be set on a copy of a slice from a DataFrame.\n",
            "Try using .loc[row_indexer,col_indexer] = value instead\n",
            "\n",
            "See the caveats in the documentation: https://pandas.pydata.org/pandas-docs/stable/user_guide/indexing.html#returning-a-view-versus-a-copy\n",
            "  self.obj[key] = _infer_fill_value(value)\n",
            "/usr/local/lib/python3.7/dist-packages/pandas/core/indexing.py:1763: SettingWithCopyWarning: \n",
            "A value is trying to be set on a copy of a slice from a DataFrame.\n",
            "Try using .loc[row_indexer,col_indexer] = value instead\n",
            "\n",
            "See the caveats in the documentation: https://pandas.pydata.org/pandas-docs/stable/user_guide/indexing.html#returning-a-view-versus-a-copy\n",
            "  isetter(loc, value)\n"
          ]
        }
      ],
      "source": [
        "dfComplete.loc[:,'shipping_charge'] = 600"
      ]
    },
    {
      "cell_type": "code",
      "execution_count": null,
      "metadata": {
        "colab": {
          "base_uri": "https://localhost:8080/"
        },
        "id": "X0yFIKS3Zube",
        "outputId": "abfb9390-2457-4713-d68f-f4b725ba54fa"
      },
      "outputs": [
        {
          "name": "stderr",
          "output_type": "stream",
          "text": [
            "/usr/local/lib/python3.7/dist-packages/pandas/core/indexing.py:1596: SettingWithCopyWarning: \n",
            "A value is trying to be set on a copy of a slice from a DataFrame.\n",
            "Try using .loc[row_indexer,col_indexer] = value instead\n",
            "\n",
            "See the caveats in the documentation: https://pandas.pydata.org/pandas-docs/stable/user_guide/indexing.html#returning-a-view-versus-a-copy\n",
            "  self.obj[key] = _infer_fill_value(value)\n",
            "/usr/local/lib/python3.7/dist-packages/pandas/core/indexing.py:1763: SettingWithCopyWarning: \n",
            "A value is trying to be set on a copy of a slice from a DataFrame.\n",
            "Try using .loc[row_indexer,col_indexer] = value instead\n",
            "\n",
            "See the caveats in the documentation: https://pandas.pydata.org/pandas-docs/stable/user_guide/indexing.html#returning-a-view-versus-a-copy\n",
            "  isetter(loc, value)\n"
          ]
        }
      ],
      "source": [
        "dfComplete.loc[:, 'shipping_lead_time'] = 2"
      ]
    },
    {
      "cell_type": "code",
      "execution_count": null,
      "metadata": {
        "colab": {
          "base_uri": "https://localhost:8080/"
        },
        "id": "3xnyIxF8aUzf",
        "outputId": "28672dc9-9516-4ee8-88e1-3f519058bd3c"
      },
      "outputs": [
        {
          "name": "stderr",
          "output_type": "stream",
          "text": [
            "/usr/local/lib/python3.7/dist-packages/pandas/core/indexing.py:659: SettingWithCopyWarning: \n",
            "A value is trying to be set on a copy of a slice from a DataFrame.\n",
            "Try using .loc[row_indexer,col_indexer] = value instead\n",
            "\n",
            "See the caveats in the documentation: https://pandas.pydata.org/pandas-docs/stable/user_guide/indexing.html#returning-a-view-versus-a-copy\n",
            "  self.obj[k] = np.nan\n",
            "/usr/local/lib/python3.7/dist-packages/pandas/core/indexing.py:1763: SettingWithCopyWarning: \n",
            "A value is trying to be set on a copy of a slice from a DataFrame.\n",
            "Try using .loc[row_indexer,col_indexer] = value instead\n",
            "\n",
            "See the caveats in the documentation: https://pandas.pydata.org/pandas-docs/stable/user_guide/indexing.html#returning-a-view-versus-a-copy\n",
            "  isetter(loc, value)\n"
          ]
        }
      ],
      "source": [
        "dfComplete.loc[:, ['type']] = 'k'"
      ]
    },
    {
      "cell_type": "code",
      "execution_count": null,
      "metadata": {
        "colab": {
          "base_uri": "https://localhost:8080/",
          "height": 417
        },
        "id": "YDOzpsQQZn3O",
        "outputId": "043fd402-83bb-4c7a-e6ab-4e6da9d71b7d"
      },
      "outputs": [
        {
          "data": {
            "text/html": [
              "<div>\n",
              "<style scoped>\n",
              "    .dataframe tbody tr th:only-of-type {\n",
              "        vertical-align: middle;\n",
              "    }\n",
              "\n",
              "    .dataframe tbody tr th {\n",
              "        vertical-align: top;\n",
              "    }\n",
              "\n",
              "    .dataframe thead th {\n",
              "        text-align: right;\n",
              "    }\n",
              "</style>\n",
              "<table border=\"1\" class=\"dataframe\">\n",
              "  <thead>\n",
              "    <tr style=\"text-align: right;\">\n",
              "      <th></th>\n",
              "      <th>ZIP</th>\n",
              "      <th>pref_id</th>\n",
              "      <th>Pref</th>\n",
              "      <th>pref_name_en</th>\n",
              "      <th>City</th>\n",
              "      <th>Town</th>\n",
              "      <th>is_island</th>\n",
              "      <th>shipping_charge</th>\n",
              "      <th>shipping_lead_time</th>\n",
              "      <th>type</th>\n",
              "    </tr>\n",
              "  </thead>\n",
              "  <tbody>\n",
              "    <tr>\n",
              "      <th>0</th>\n",
              "      <td>0600000</td>\n",
              "      <td>645</td>\n",
              "      <td>北海道</td>\n",
              "      <td>Hokkaido</td>\n",
              "      <td>札幌市中央区</td>\n",
              "      <td></td>\n",
              "      <td>0</td>\n",
              "      <td>600</td>\n",
              "      <td>2</td>\n",
              "      <td>k</td>\n",
              "    </tr>\n",
              "    <tr>\n",
              "      <th>1</th>\n",
              "      <td>0640941</td>\n",
              "      <td>645</td>\n",
              "      <td>北海道</td>\n",
              "      <td>Hokkaido</td>\n",
              "      <td>札幌市中央区</td>\n",
              "      <td>旭ケ丘</td>\n",
              "      <td>0</td>\n",
              "      <td>600</td>\n",
              "      <td>2</td>\n",
              "      <td>k</td>\n",
              "    </tr>\n",
              "    <tr>\n",
              "      <th>2</th>\n",
              "      <td>0600041</td>\n",
              "      <td>645</td>\n",
              "      <td>北海道</td>\n",
              "      <td>Hokkaido</td>\n",
              "      <td>札幌市中央区</td>\n",
              "      <td>大通東</td>\n",
              "      <td>0</td>\n",
              "      <td>600</td>\n",
              "      <td>2</td>\n",
              "      <td>k</td>\n",
              "    </tr>\n",
              "    <tr>\n",
              "      <th>3</th>\n",
              "      <td>0600042</td>\n",
              "      <td>645</td>\n",
              "      <td>北海道</td>\n",
              "      <td>Hokkaido</td>\n",
              "      <td>札幌市中央区</td>\n",
              "      <td>大通西</td>\n",
              "      <td>0</td>\n",
              "      <td>600</td>\n",
              "      <td>2</td>\n",
              "      <td>k</td>\n",
              "    </tr>\n",
              "    <tr>\n",
              "      <th>4</th>\n",
              "      <td>0640820</td>\n",
              "      <td>645</td>\n",
              "      <td>北海道</td>\n",
              "      <td>Hokkaido</td>\n",
              "      <td>札幌市中央区</td>\n",
              "      <td>大通西</td>\n",
              "      <td>0</td>\n",
              "      <td>600</td>\n",
              "      <td>2</td>\n",
              "      <td>k</td>\n",
              "    </tr>\n",
              "    <tr>\n",
              "      <th>...</th>\n",
              "      <td>...</td>\n",
              "      <td>...</td>\n",
              "      <td>...</td>\n",
              "      <td>...</td>\n",
              "      <td>...</td>\n",
              "      <td>...</td>\n",
              "      <td>...</td>\n",
              "      <td>...</td>\n",
              "      <td>...</td>\n",
              "      <td>...</td>\n",
              "    </tr>\n",
              "    <tr>\n",
              "      <th>124534</th>\n",
              "      <td>9071433</td>\n",
              "      <td>691</td>\n",
              "      <td>沖縄県</td>\n",
              "      <td>Okinawa</td>\n",
              "      <td>八重山郡竹富町</td>\n",
              "      <td>南風見仲</td>\n",
              "      <td>0</td>\n",
              "      <td>600</td>\n",
              "      <td>2</td>\n",
              "      <td>k</td>\n",
              "    </tr>\n",
              "    <tr>\n",
              "      <th>124535</th>\n",
              "      <td>9071751</td>\n",
              "      <td>691</td>\n",
              "      <td>沖縄県</td>\n",
              "      <td>Okinawa</td>\n",
              "      <td>八重山郡竹富町</td>\n",
              "      <td>波照間</td>\n",
              "      <td>0</td>\n",
              "      <td>600</td>\n",
              "      <td>2</td>\n",
              "      <td>k</td>\n",
              "    </tr>\n",
              "    <tr>\n",
              "      <th>124536</th>\n",
              "      <td>9071544</td>\n",
              "      <td>691</td>\n",
              "      <td>沖縄県</td>\n",
              "      <td>Okinawa</td>\n",
              "      <td>八重山郡竹富町</td>\n",
              "      <td>鳩間</td>\n",
              "      <td>0</td>\n",
              "      <td>600</td>\n",
              "      <td>2</td>\n",
              "      <td>k</td>\n",
              "    </tr>\n",
              "    <tr>\n",
              "      <th>124537</th>\n",
              "      <td>9071800</td>\n",
              "      <td>691</td>\n",
              "      <td>沖縄県</td>\n",
              "      <td>Okinawa</td>\n",
              "      <td>八重山郡与那国町</td>\n",
              "      <td></td>\n",
              "      <td>0</td>\n",
              "      <td>600</td>\n",
              "      <td>2</td>\n",
              "      <td>k</td>\n",
              "    </tr>\n",
              "    <tr>\n",
              "      <th>124538</th>\n",
              "      <td>9071801</td>\n",
              "      <td>691</td>\n",
              "      <td>沖縄県</td>\n",
              "      <td>Okinawa</td>\n",
              "      <td>八重山郡与那国町</td>\n",
              "      <td>与那国</td>\n",
              "      <td>0</td>\n",
              "      <td>600</td>\n",
              "      <td>2</td>\n",
              "      <td>k</td>\n",
              "    </tr>\n",
              "  </tbody>\n",
              "</table>\n",
              "<p>120399 rows × 10 columns</p>\n",
              "</div>"
            ],
            "text/plain": [
              "            ZIP  pref_id Pref  ... shipping_charge shipping_lead_time type\n",
              "0       0600000      645  北海道  ...             600                  2    k\n",
              "1       0640941      645  北海道  ...             600                  2    k\n",
              "2       0600041      645  北海道  ...             600                  2    k\n",
              "3       0600042      645  北海道  ...             600                  2    k\n",
              "4       0640820      645  北海道  ...             600                  2    k\n",
              "...         ...      ...  ...  ...             ...                ...  ...\n",
              "124534  9071433      691  沖縄県  ...             600                  2    k\n",
              "124535  9071751      691  沖縄県  ...             600                  2    k\n",
              "124536  9071544      691  沖縄県  ...             600                  2    k\n",
              "124537  9071800      691  沖縄県  ...             600                  2    k\n",
              "124538  9071801      691  沖縄県  ...             600                  2    k\n",
              "\n",
              "[120399 rows x 10 columns]"
            ]
          },
          "execution_count": 77,
          "metadata": {},
          "output_type": "execute_result"
        }
      ],
      "source": [
        "dfComplete"
      ]
    },
    {
      "cell_type": "markdown",
      "metadata": {
        "id": "3vbCLqIFkhaP"
      },
      "source": [
        "# Export the data to a text file"
      ]
    },
    {
      "cell_type": "code",
      "execution_count": null,
      "metadata": {
        "colab": {
          "base_uri": "https://localhost:8080/"
        },
        "id": "YQqmcV1AaxPV",
        "outputId": "5bcff513-6136-40c5-eaec-89d269cad1a3"
      },
      "outputs": [
        {
          "data": {
            "text/plain": [
              "ZIP                   object\n",
              "pref_id                int64\n",
              "Pref                  object\n",
              "pref_name_en          object\n",
              "City                  object\n",
              "Town                  object\n",
              "is_island              int64\n",
              "shipping_charge        int64\n",
              "shipping_lead_time     int64\n",
              "type                  object\n",
              "dtype: object"
            ]
          },
          "execution_count": 81,
          "metadata": {},
          "output_type": "execute_result"
        }
      ],
      "source": [
        "dfComplete.dtypes"
      ]
    },
    {
      "cell_type": "code",
      "execution_count": null,
      "metadata": {
        "id": "DphM7IfsWD2e"
      },
      "outputs": [],
      "source": [
        "dfComplete.to_csv('./drive/My Drive/Colab Notebooks/01_dataset/zip-code/zipLatest_update.txt', index=False, encoding='utf-8', quoting=2)"
      ]
    }
  ],
  "metadata": {
    "colab": {
      "name": "zip-code-2021-09.ipynb",
      "provenance": [],
      "toc_visible": true
    },
    "kernelspec": {
      "display_name": "Python 3",
      "name": "python3"
    },
    "language_info": {
      "name": "python"
    }
  },
  "nbformat": 4,
  "nbformat_minor": 0
}
