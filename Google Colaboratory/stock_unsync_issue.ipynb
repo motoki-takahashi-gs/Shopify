{
  "cells": [
    {
      "cell_type": "markdown",
      "metadata": {
        "id": "-0evdsfYj-WW"
      },
      "source": [
        "# Preparation"
      ]
    },
    {
      "cell_type": "code",
      "execution_count": null,
      "metadata": {
        "id": "LWm7c7ngVX1m"
      },
      "outputs": [],
      "source": [
        "import pandas as pd"
      ]
    },
    {
      "cell_type": "code",
      "execution_count": null,
      "metadata": {
        "id": "8zMI5zSiWB_K"
      },
      "outputs": [],
      "source": [
        "from google.colab import drive"
      ]
    },
    {
      "cell_type": "code",
      "execution_count": null,
      "metadata": {
        "colab": {
          "base_uri": "https://localhost:8080/"
        },
        "id": "3lrqX4vnWErn",
        "outputId": "0d118d8e-ae57-437e-a8ce-0967cf4d07c1"
      },
      "outputs": [],
      "source": [
        "drive.mount('/content/drive')"
      ]
    },
    {
      "cell_type": "markdown",
      "metadata": {
        "id": "eyOPdOe1kDFu"
      },
      "source": [
        "# Inventory on the 1st day"
      ]
    },
    {
      "cell_type": "code",
      "execution_count": null,
      "metadata": {
        "id": "IdVMTtJBWpw0"
      },
      "outputs": [],
      "source": [
        "df_1st_day = pd.read_csv('./drive/My Drive/Colab Notebooks/01_dataset/inventory/Shopify_exported/inventory_export_1_20210302.csv')"
      ]
    },
    {
      "cell_type": "code",
      "execution_count": null,
      "metadata": {
        "colab": {
          "base_uri": "https://localhost:8080/"
        },
        "id": "LZ7SEbuyX5et",
        "outputId": "ddcd3a18-e16c-44f2-d86e-5ff61e6dfc23"
      },
      "outputs": [],
      "source": [
        "df_1st_day.info()"
      ]
    },
    {
      "cell_type": "code",
      "execution_count": null,
      "metadata": {
        "colab": {
          "base_uri": "https://localhost:8080/"
        },
        "id": "Q-z23ok1YMN9",
        "outputId": "605e4124-f0fc-4f84-f528-937340f11190"
      },
      "outputs": [],
      "source": [
        "df_1st_day.shape"
      ]
    },
    {
      "cell_type": "markdown",
      "metadata": {
        "id": "e1FIzpKTkJ9c"
      },
      "source": [
        "# Inventory on the 2nd day"
      ]
    },
    {
      "cell_type": "code",
      "execution_count": null,
      "metadata": {
        "id": "AO1UoAlYYkVt"
      },
      "outputs": [],
      "source": [
        "df_2nd_day = pd.read_csv('./drive/My Drive/Colab Notebooks/01_dataset/inventory/Shopify_exported/inventory_export_1_20210305.csv')"
      ]
    },
    {
      "cell_type": "code",
      "execution_count": null,
      "metadata": {
        "colab": {
          "base_uri": "https://localhost:8080/"
        },
        "id": "spXubb-UZOjq",
        "outputId": "ed867944-ba53-4115-d57a-3a9e5a08f8ce"
      },
      "outputs": [],
      "source": [
        "df_2nd_day.shape"
      ]
    },
    {
      "cell_type": "markdown",
      "metadata": {
        "id": "RQ4oFFIPkhon"
      },
      "source": [
        "# Items with 0 available and 1 waiting on the 1st day"
      ]
    },
    {
      "cell_type": "code",
      "execution_count": null,
      "metadata": {
        "id": "9MYF5d7NZTZU"
      },
      "outputs": [],
      "source": [
        "df_1st_day_shipping = df_1st_day.loc[(df_1st_day['Kantsu Warehouse（注文可能数）'] == 0) & (df_1st_day['引き当て済在庫数(発送待ち)'] == '1')]"
      ]
    },
    {
      "cell_type": "markdown",
      "metadata": {
        "id": "l9b9KZ3qkuxg"
      },
      "source": [
        "# Items with 0 available and 1 waiting on the 2nd day"
      ]
    },
    {
      "cell_type": "code",
      "execution_count": null,
      "metadata": {
        "id": "48ry_CA6dayr"
      },
      "outputs": [],
      "source": [
        "df_2nd_day_shipping = df_2nd_day.loc[(df_2nd_day['Kantsu Warehouse（注文可能数）'] == 0) & (df_2nd_day['引き当て済在庫数(発送待ち)'] == '1')]"
      ]
    },
    {
      "cell_type": "markdown",
      "metadata": {
        "id": "EqqBcz3vk5qO"
      },
      "source": [
        "# Items which still have the 引き当て issue"
      ]
    },
    {
      "cell_type": "code",
      "execution_count": null,
      "metadata": {
        "id": "r3MfVeP8d0KN"
      },
      "outputs": [],
      "source": [
        "items_with_issue = pd.merge(df_1st_day_shipping, df_2nd_day_shipping, on='SKU')"
      ]
    },
    {
      "cell_type": "code",
      "execution_count": null,
      "metadata": {
        "id": "G8eUOkfPfNnY"
      },
      "outputs": [],
      "source": [
        "items_with_issue = items_with_issue[['SKU', 'Title_x', 'Kantsu Warehouse（注文可能数）_x', '引き当て済在庫数(発送待ち)_x']]"
      ]
    },
    {
      "cell_type": "code",
      "execution_count": null,
      "metadata": {
        "id": "AkoC9bH0gpMs"
      },
      "outputs": [],
      "source": [
        "items_with_issue.to_csv('./drive/My Drive/Colab Notebooks/01_dataset/inventory/Issues_extracted/items_with_issue_20210305.csv')"
      ]
    }
  ],
  "metadata": {
    "colab": {
      "name": "stock_unsync_issue.ipynb",
      "provenance": [],
      "toc_visible": true
    },
    "kernelspec": {
      "display_name": "Python 3",
      "name": "python3"
    }
  },
  "nbformat": 4,
  "nbformat_minor": 0
}
